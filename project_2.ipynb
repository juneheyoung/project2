{
  "nbformat": 4,
  "nbformat_minor": 0,
  "metadata": {
    "colab": {
      "provenance": []
    },
    "kernelspec": {
      "name": "python3",
      "display_name": "Python 3"
    },
    "language_info": {
      "name": "python"
    }
  },
  "cells": [
    {
      "cell_type": "markdown",
      "source": [
        "##프로젝트 목표 \n",
        "뉴욕의 airbnb 데이터를 활용하여 airbnb에 방을 내놓을 때 적당한 숙박료를 예측해본다."
      ],
      "metadata": {
        "id": "-R1WQ_9mXCop"
      }
    },
    {
      "cell_type": "code",
      "execution_count": 183,
      "metadata": {
        "id": "W7ZNvEn5RNcd"
      },
      "outputs": [],
      "source": [
        "import pandas as pd\n",
        "import numpy as np\n",
        "import matplotlib.pyplot as plt\n",
        "import seaborn as sns"
      ]
    },
    {
      "cell_type": "code",
      "source": [
        "df = pd.read_csv('/content/drive/MyDrive/ddddd/project2/AB_NYC_2019.csv의 사본')\n",
        "df.head()"
      ],
      "metadata": {
        "id": "53Ofc3u7RQdY",
        "colab": {
          "base_uri": "https://localhost:8080/",
          "height": 461
        },
        "outputId": "9b8499ea-33f1-4715-f277-8293bdd02dd4"
      },
      "execution_count": 184,
      "outputs": [
        {
          "output_type": "execute_result",
          "data": {
            "text/plain": [
              "     id                                              name  host_id  \\\n",
              "0  2539                Clean & quiet apt home by the park     2787   \n",
              "1  2595                             Skylit Midtown Castle     2845   \n",
              "2  3647               THE VILLAGE OF HARLEM....NEW YORK !     4632   \n",
              "3  3831                   Cozy Entire Floor of Brownstone     4869   \n",
              "4  5022  Entire Apt: Spacious Studio/Loft by central park     7192   \n",
              "\n",
              "     host_name neighbourhood_group neighbourhood  latitude  longitude  \\\n",
              "0         John            Brooklyn    Kensington  40.64749  -73.97237   \n",
              "1     Jennifer           Manhattan       Midtown  40.75362  -73.98377   \n",
              "2    Elisabeth           Manhattan        Harlem  40.80902  -73.94190   \n",
              "3  LisaRoxanne            Brooklyn  Clinton Hill  40.68514  -73.95976   \n",
              "4        Laura           Manhattan   East Harlem  40.79851  -73.94399   \n",
              "\n",
              "         room_type  price  minimum_nights  number_of_reviews last_review  \\\n",
              "0     Private room    149               1                  9  2018-10-19   \n",
              "1  Entire home/apt    225               1                 45  2019-05-21   \n",
              "2     Private room    150               3                  0         NaN   \n",
              "3  Entire home/apt     89               1                270  2019-07-05   \n",
              "4  Entire home/apt     80              10                  9  2018-11-19   \n",
              "\n",
              "   reviews_per_month  calculated_host_listings_count  availability_365  \n",
              "0               0.21                               6               365  \n",
              "1               0.38                               2               355  \n",
              "2                NaN                               1               365  \n",
              "3               4.64                               1               194  \n",
              "4               0.10                               1                 0  "
            ],
            "text/html": [
              "\n",
              "  <div id=\"df-297d4f29-e642-4a00-a62a-3961bf506010\">\n",
              "    <div class=\"colab-df-container\">\n",
              "      <div>\n",
              "<style scoped>\n",
              "    .dataframe tbody tr th:only-of-type {\n",
              "        vertical-align: middle;\n",
              "    }\n",
              "\n",
              "    .dataframe tbody tr th {\n",
              "        vertical-align: top;\n",
              "    }\n",
              "\n",
              "    .dataframe thead th {\n",
              "        text-align: right;\n",
              "    }\n",
              "</style>\n",
              "<table border=\"1\" class=\"dataframe\">\n",
              "  <thead>\n",
              "    <tr style=\"text-align: right;\">\n",
              "      <th></th>\n",
              "      <th>id</th>\n",
              "      <th>name</th>\n",
              "      <th>host_id</th>\n",
              "      <th>host_name</th>\n",
              "      <th>neighbourhood_group</th>\n",
              "      <th>neighbourhood</th>\n",
              "      <th>latitude</th>\n",
              "      <th>longitude</th>\n",
              "      <th>room_type</th>\n",
              "      <th>price</th>\n",
              "      <th>minimum_nights</th>\n",
              "      <th>number_of_reviews</th>\n",
              "      <th>last_review</th>\n",
              "      <th>reviews_per_month</th>\n",
              "      <th>calculated_host_listings_count</th>\n",
              "      <th>availability_365</th>\n",
              "    </tr>\n",
              "  </thead>\n",
              "  <tbody>\n",
              "    <tr>\n",
              "      <th>0</th>\n",
              "      <td>2539</td>\n",
              "      <td>Clean &amp; quiet apt home by the park</td>\n",
              "      <td>2787</td>\n",
              "      <td>John</td>\n",
              "      <td>Brooklyn</td>\n",
              "      <td>Kensington</td>\n",
              "      <td>40.64749</td>\n",
              "      <td>-73.97237</td>\n",
              "      <td>Private room</td>\n",
              "      <td>149</td>\n",
              "      <td>1</td>\n",
              "      <td>9</td>\n",
              "      <td>2018-10-19</td>\n",
              "      <td>0.21</td>\n",
              "      <td>6</td>\n",
              "      <td>365</td>\n",
              "    </tr>\n",
              "    <tr>\n",
              "      <th>1</th>\n",
              "      <td>2595</td>\n",
              "      <td>Skylit Midtown Castle</td>\n",
              "      <td>2845</td>\n",
              "      <td>Jennifer</td>\n",
              "      <td>Manhattan</td>\n",
              "      <td>Midtown</td>\n",
              "      <td>40.75362</td>\n",
              "      <td>-73.98377</td>\n",
              "      <td>Entire home/apt</td>\n",
              "      <td>225</td>\n",
              "      <td>1</td>\n",
              "      <td>45</td>\n",
              "      <td>2019-05-21</td>\n",
              "      <td>0.38</td>\n",
              "      <td>2</td>\n",
              "      <td>355</td>\n",
              "    </tr>\n",
              "    <tr>\n",
              "      <th>2</th>\n",
              "      <td>3647</td>\n",
              "      <td>THE VILLAGE OF HARLEM....NEW YORK !</td>\n",
              "      <td>4632</td>\n",
              "      <td>Elisabeth</td>\n",
              "      <td>Manhattan</td>\n",
              "      <td>Harlem</td>\n",
              "      <td>40.80902</td>\n",
              "      <td>-73.94190</td>\n",
              "      <td>Private room</td>\n",
              "      <td>150</td>\n",
              "      <td>3</td>\n",
              "      <td>0</td>\n",
              "      <td>NaN</td>\n",
              "      <td>NaN</td>\n",
              "      <td>1</td>\n",
              "      <td>365</td>\n",
              "    </tr>\n",
              "    <tr>\n",
              "      <th>3</th>\n",
              "      <td>3831</td>\n",
              "      <td>Cozy Entire Floor of Brownstone</td>\n",
              "      <td>4869</td>\n",
              "      <td>LisaRoxanne</td>\n",
              "      <td>Brooklyn</td>\n",
              "      <td>Clinton Hill</td>\n",
              "      <td>40.68514</td>\n",
              "      <td>-73.95976</td>\n",
              "      <td>Entire home/apt</td>\n",
              "      <td>89</td>\n",
              "      <td>1</td>\n",
              "      <td>270</td>\n",
              "      <td>2019-07-05</td>\n",
              "      <td>4.64</td>\n",
              "      <td>1</td>\n",
              "      <td>194</td>\n",
              "    </tr>\n",
              "    <tr>\n",
              "      <th>4</th>\n",
              "      <td>5022</td>\n",
              "      <td>Entire Apt: Spacious Studio/Loft by central park</td>\n",
              "      <td>7192</td>\n",
              "      <td>Laura</td>\n",
              "      <td>Manhattan</td>\n",
              "      <td>East Harlem</td>\n",
              "      <td>40.79851</td>\n",
              "      <td>-73.94399</td>\n",
              "      <td>Entire home/apt</td>\n",
              "      <td>80</td>\n",
              "      <td>10</td>\n",
              "      <td>9</td>\n",
              "      <td>2018-11-19</td>\n",
              "      <td>0.10</td>\n",
              "      <td>1</td>\n",
              "      <td>0</td>\n",
              "    </tr>\n",
              "  </tbody>\n",
              "</table>\n",
              "</div>\n",
              "      <button class=\"colab-df-convert\" onclick=\"convertToInteractive('df-297d4f29-e642-4a00-a62a-3961bf506010')\"\n",
              "              title=\"Convert this dataframe to an interactive table.\"\n",
              "              style=\"display:none;\">\n",
              "        \n",
              "  <svg xmlns=\"http://www.w3.org/2000/svg\" height=\"24px\"viewBox=\"0 0 24 24\"\n",
              "       width=\"24px\">\n",
              "    <path d=\"M0 0h24v24H0V0z\" fill=\"none\"/>\n",
              "    <path d=\"M18.56 5.44l.94 2.06.94-2.06 2.06-.94-2.06-.94-.94-2.06-.94 2.06-2.06.94zm-11 1L8.5 8.5l.94-2.06 2.06-.94-2.06-.94L8.5 2.5l-.94 2.06-2.06.94zm10 10l.94 2.06.94-2.06 2.06-.94-2.06-.94-.94-2.06-.94 2.06-2.06.94z\"/><path d=\"M17.41 7.96l-1.37-1.37c-.4-.4-.92-.59-1.43-.59-.52 0-1.04.2-1.43.59L10.3 9.45l-7.72 7.72c-.78.78-.78 2.05 0 2.83L4 21.41c.39.39.9.59 1.41.59.51 0 1.02-.2 1.41-.59l7.78-7.78 2.81-2.81c.8-.78.8-2.07 0-2.86zM5.41 20L4 18.59l7.72-7.72 1.47 1.35L5.41 20z\"/>\n",
              "  </svg>\n",
              "      </button>\n",
              "      \n",
              "  <style>\n",
              "    .colab-df-container {\n",
              "      display:flex;\n",
              "      flex-wrap:wrap;\n",
              "      gap: 12px;\n",
              "    }\n",
              "\n",
              "    .colab-df-convert {\n",
              "      background-color: #E8F0FE;\n",
              "      border: none;\n",
              "      border-radius: 50%;\n",
              "      cursor: pointer;\n",
              "      display: none;\n",
              "      fill: #1967D2;\n",
              "      height: 32px;\n",
              "      padding: 0 0 0 0;\n",
              "      width: 32px;\n",
              "    }\n",
              "\n",
              "    .colab-df-convert:hover {\n",
              "      background-color: #E2EBFA;\n",
              "      box-shadow: 0px 1px 2px rgba(60, 64, 67, 0.3), 0px 1px 3px 1px rgba(60, 64, 67, 0.15);\n",
              "      fill: #174EA6;\n",
              "    }\n",
              "\n",
              "    [theme=dark] .colab-df-convert {\n",
              "      background-color: #3B4455;\n",
              "      fill: #D2E3FC;\n",
              "    }\n",
              "\n",
              "    [theme=dark] .colab-df-convert:hover {\n",
              "      background-color: #434B5C;\n",
              "      box-shadow: 0px 1px 3px 1px rgba(0, 0, 0, 0.15);\n",
              "      filter: drop-shadow(0px 1px 2px rgba(0, 0, 0, 0.3));\n",
              "      fill: #FFFFFF;\n",
              "    }\n",
              "  </style>\n",
              "\n",
              "      <script>\n",
              "        const buttonEl =\n",
              "          document.querySelector('#df-297d4f29-e642-4a00-a62a-3961bf506010 button.colab-df-convert');\n",
              "        buttonEl.style.display =\n",
              "          google.colab.kernel.accessAllowed ? 'block' : 'none';\n",
              "\n",
              "        async function convertToInteractive(key) {\n",
              "          const element = document.querySelector('#df-297d4f29-e642-4a00-a62a-3961bf506010');\n",
              "          const dataTable =\n",
              "            await google.colab.kernel.invokeFunction('convertToInteractive',\n",
              "                                                     [key], {});\n",
              "          if (!dataTable) return;\n",
              "\n",
              "          const docLinkHtml = 'Like what you see? Visit the ' +\n",
              "            '<a target=\"_blank\" href=https://colab.research.google.com/notebooks/data_table.ipynb>data table notebook</a>'\n",
              "            + ' to learn more about interactive tables.';\n",
              "          element.innerHTML = '';\n",
              "          dataTable['output_type'] = 'display_data';\n",
              "          await google.colab.output.renderOutput(dataTable, element);\n",
              "          const docLink = document.createElement('div');\n",
              "          docLink.innerHTML = docLinkHtml;\n",
              "          element.appendChild(docLink);\n",
              "        }\n",
              "      </script>\n",
              "    </div>\n",
              "  </div>\n",
              "  "
            ]
          },
          "metadata": {},
          "execution_count": 184
        }
      ]
    },
    {
      "cell_type": "markdown",
      "source": [
        "## 데이터 소개\n",
        "\n",
        "    id: 항목의 ID\n",
        "    name: 항목의 이름 (타이틀)\n",
        "    host_id: 호스트 ID\n",
        "    host_name: 호스트의 이름\n",
        "    neighbourhood_group: 방이 있는 구역 그룹\n",
        "    neighbourhood: 방이 있는 구역\n",
        "    latitude: 방이 위치한 위도\n",
        "    longitude: 방이 위치한 경도\n",
        "    room_type: 방의 종류\n",
        "    price: 가격 (미 달러)\n",
        "    minimum_nights: 최소 숙박 일수\n",
        "    number_of_reviews: 리뷰의 개수\n",
        "    last_review: 마지막 리뷰 일자\n",
        "    reviews_per_month: 월별 리뷰 개수\n",
        "    calculated_host_listings_count: 호스트가 올린 방 개수\n",
        "    availability_365: 365일 중 가능한 일수"
      ],
      "metadata": {
        "id": "T2pPMAwXYlpu"
      }
    },
    {
      "cell_type": "code",
      "source": [
        "df.info()\n"
      ],
      "metadata": {
        "colab": {
          "base_uri": "https://localhost:8080/"
        },
        "id": "uREEe79aRVbK",
        "outputId": "34fff42d-29b6-47a2-d9dd-df5912a610a0"
      },
      "execution_count": 185,
      "outputs": [
        {
          "output_type": "stream",
          "name": "stdout",
          "text": [
            "<class 'pandas.core.frame.DataFrame'>\n",
            "RangeIndex: 48895 entries, 0 to 48894\n",
            "Data columns (total 16 columns):\n",
            " #   Column                          Non-Null Count  Dtype  \n",
            "---  ------                          --------------  -----  \n",
            " 0   id                              48895 non-null  int64  \n",
            " 1   name                            48879 non-null  object \n",
            " 2   host_id                         48895 non-null  int64  \n",
            " 3   host_name                       48874 non-null  object \n",
            " 4   neighbourhood_group             48895 non-null  object \n",
            " 5   neighbourhood                   48895 non-null  object \n",
            " 6   latitude                        48895 non-null  float64\n",
            " 7   longitude                       48895 non-null  float64\n",
            " 8   room_type                       48895 non-null  object \n",
            " 9   price                           48895 non-null  int64  \n",
            " 10  minimum_nights                  48895 non-null  int64  \n",
            " 11  number_of_reviews               48895 non-null  int64  \n",
            " 12  last_review                     38843 non-null  object \n",
            " 13  reviews_per_month               38843 non-null  float64\n",
            " 14  calculated_host_listings_count  48895 non-null  int64  \n",
            " 15  availability_365                48895 non-null  int64  \n",
            "dtypes: float64(3), int64(7), object(6)\n",
            "memory usage: 6.0+ MB\n"
          ]
        }
      ]
    },
    {
      "cell_type": "code",
      "source": [
        "df.isnull().sum()"
      ],
      "metadata": {
        "colab": {
          "base_uri": "https://localhost:8080/"
        },
        "id": "4iQ3sD7aRYwM",
        "outputId": "f6086832-99ee-4dc1-d063-03e514686aea"
      },
      "execution_count": 186,
      "outputs": [
        {
          "output_type": "execute_result",
          "data": {
            "text/plain": [
              "id                                    0\n",
              "name                                 16\n",
              "host_id                               0\n",
              "host_name                            21\n",
              "neighbourhood_group                   0\n",
              "neighbourhood                         0\n",
              "latitude                              0\n",
              "longitude                             0\n",
              "room_type                             0\n",
              "price                                 0\n",
              "minimum_nights                        0\n",
              "number_of_reviews                     0\n",
              "last_review                       10052\n",
              "reviews_per_month                 10052\n",
              "calculated_host_listings_count        0\n",
              "availability_365                      0\n",
              "dtype: int64"
            ]
          },
          "metadata": {},
          "execution_count": 186
        }
      ]
    },
    {
      "cell_type": "code",
      "source": [
        "df.describe()"
      ],
      "metadata": {
        "colab": {
          "base_uri": "https://localhost:8080/",
          "height": 300
        },
        "id": "0KIG54sHRZm2",
        "outputId": "b52472a2-b0a1-4a1d-dd17-7bdf794b597b"
      },
      "execution_count": 187,
      "outputs": [
        {
          "output_type": "execute_result",
          "data": {
            "text/plain": [
              "                 id       host_id      latitude     longitude         price  \\\n",
              "count  4.889500e+04  4.889500e+04  48895.000000  48895.000000  48895.000000   \n",
              "mean   1.901714e+07  6.762001e+07     40.728949    -73.952170    152.720687   \n",
              "std    1.098311e+07  7.861097e+07      0.054530      0.046157    240.154170   \n",
              "min    2.539000e+03  2.438000e+03     40.499790    -74.244420      0.000000   \n",
              "25%    9.471945e+06  7.822033e+06     40.690100    -73.983070     69.000000   \n",
              "50%    1.967728e+07  3.079382e+07     40.723070    -73.955680    106.000000   \n",
              "75%    2.915218e+07  1.074344e+08     40.763115    -73.936275    175.000000   \n",
              "max    3.648724e+07  2.743213e+08     40.913060    -73.712990  10000.000000   \n",
              "\n",
              "       minimum_nights  number_of_reviews  reviews_per_month  \\\n",
              "count    48895.000000       48895.000000       38843.000000   \n",
              "mean         7.029962          23.274466           1.373221   \n",
              "std         20.510550          44.550582           1.680442   \n",
              "min          1.000000           0.000000           0.010000   \n",
              "25%          1.000000           1.000000           0.190000   \n",
              "50%          3.000000           5.000000           0.720000   \n",
              "75%          5.000000          24.000000           2.020000   \n",
              "max       1250.000000         629.000000          58.500000   \n",
              "\n",
              "       calculated_host_listings_count  availability_365  \n",
              "count                    48895.000000      48895.000000  \n",
              "mean                         7.143982        112.781327  \n",
              "std                         32.952519        131.622289  \n",
              "min                          1.000000          0.000000  \n",
              "25%                          1.000000          0.000000  \n",
              "50%                          1.000000         45.000000  \n",
              "75%                          2.000000        227.000000  \n",
              "max                        327.000000        365.000000  "
            ],
            "text/html": [
              "\n",
              "  <div id=\"df-b2ae9e36-889f-4482-a9cb-edfa61a15eaf\">\n",
              "    <div class=\"colab-df-container\">\n",
              "      <div>\n",
              "<style scoped>\n",
              "    .dataframe tbody tr th:only-of-type {\n",
              "        vertical-align: middle;\n",
              "    }\n",
              "\n",
              "    .dataframe tbody tr th {\n",
              "        vertical-align: top;\n",
              "    }\n",
              "\n",
              "    .dataframe thead th {\n",
              "        text-align: right;\n",
              "    }\n",
              "</style>\n",
              "<table border=\"1\" class=\"dataframe\">\n",
              "  <thead>\n",
              "    <tr style=\"text-align: right;\">\n",
              "      <th></th>\n",
              "      <th>id</th>\n",
              "      <th>host_id</th>\n",
              "      <th>latitude</th>\n",
              "      <th>longitude</th>\n",
              "      <th>price</th>\n",
              "      <th>minimum_nights</th>\n",
              "      <th>number_of_reviews</th>\n",
              "      <th>reviews_per_month</th>\n",
              "      <th>calculated_host_listings_count</th>\n",
              "      <th>availability_365</th>\n",
              "    </tr>\n",
              "  </thead>\n",
              "  <tbody>\n",
              "    <tr>\n",
              "      <th>count</th>\n",
              "      <td>4.889500e+04</td>\n",
              "      <td>4.889500e+04</td>\n",
              "      <td>48895.000000</td>\n",
              "      <td>48895.000000</td>\n",
              "      <td>48895.000000</td>\n",
              "      <td>48895.000000</td>\n",
              "      <td>48895.000000</td>\n",
              "      <td>38843.000000</td>\n",
              "      <td>48895.000000</td>\n",
              "      <td>48895.000000</td>\n",
              "    </tr>\n",
              "    <tr>\n",
              "      <th>mean</th>\n",
              "      <td>1.901714e+07</td>\n",
              "      <td>6.762001e+07</td>\n",
              "      <td>40.728949</td>\n",
              "      <td>-73.952170</td>\n",
              "      <td>152.720687</td>\n",
              "      <td>7.029962</td>\n",
              "      <td>23.274466</td>\n",
              "      <td>1.373221</td>\n",
              "      <td>7.143982</td>\n",
              "      <td>112.781327</td>\n",
              "    </tr>\n",
              "    <tr>\n",
              "      <th>std</th>\n",
              "      <td>1.098311e+07</td>\n",
              "      <td>7.861097e+07</td>\n",
              "      <td>0.054530</td>\n",
              "      <td>0.046157</td>\n",
              "      <td>240.154170</td>\n",
              "      <td>20.510550</td>\n",
              "      <td>44.550582</td>\n",
              "      <td>1.680442</td>\n",
              "      <td>32.952519</td>\n",
              "      <td>131.622289</td>\n",
              "    </tr>\n",
              "    <tr>\n",
              "      <th>min</th>\n",
              "      <td>2.539000e+03</td>\n",
              "      <td>2.438000e+03</td>\n",
              "      <td>40.499790</td>\n",
              "      <td>-74.244420</td>\n",
              "      <td>0.000000</td>\n",
              "      <td>1.000000</td>\n",
              "      <td>0.000000</td>\n",
              "      <td>0.010000</td>\n",
              "      <td>1.000000</td>\n",
              "      <td>0.000000</td>\n",
              "    </tr>\n",
              "    <tr>\n",
              "      <th>25%</th>\n",
              "      <td>9.471945e+06</td>\n",
              "      <td>7.822033e+06</td>\n",
              "      <td>40.690100</td>\n",
              "      <td>-73.983070</td>\n",
              "      <td>69.000000</td>\n",
              "      <td>1.000000</td>\n",
              "      <td>1.000000</td>\n",
              "      <td>0.190000</td>\n",
              "      <td>1.000000</td>\n",
              "      <td>0.000000</td>\n",
              "    </tr>\n",
              "    <tr>\n",
              "      <th>50%</th>\n",
              "      <td>1.967728e+07</td>\n",
              "      <td>3.079382e+07</td>\n",
              "      <td>40.723070</td>\n",
              "      <td>-73.955680</td>\n",
              "      <td>106.000000</td>\n",
              "      <td>3.000000</td>\n",
              "      <td>5.000000</td>\n",
              "      <td>0.720000</td>\n",
              "      <td>1.000000</td>\n",
              "      <td>45.000000</td>\n",
              "    </tr>\n",
              "    <tr>\n",
              "      <th>75%</th>\n",
              "      <td>2.915218e+07</td>\n",
              "      <td>1.074344e+08</td>\n",
              "      <td>40.763115</td>\n",
              "      <td>-73.936275</td>\n",
              "      <td>175.000000</td>\n",
              "      <td>5.000000</td>\n",
              "      <td>24.000000</td>\n",
              "      <td>2.020000</td>\n",
              "      <td>2.000000</td>\n",
              "      <td>227.000000</td>\n",
              "    </tr>\n",
              "    <tr>\n",
              "      <th>max</th>\n",
              "      <td>3.648724e+07</td>\n",
              "      <td>2.743213e+08</td>\n",
              "      <td>40.913060</td>\n",
              "      <td>-73.712990</td>\n",
              "      <td>10000.000000</td>\n",
              "      <td>1250.000000</td>\n",
              "      <td>629.000000</td>\n",
              "      <td>58.500000</td>\n",
              "      <td>327.000000</td>\n",
              "      <td>365.000000</td>\n",
              "    </tr>\n",
              "  </tbody>\n",
              "</table>\n",
              "</div>\n",
              "      <button class=\"colab-df-convert\" onclick=\"convertToInteractive('df-b2ae9e36-889f-4482-a9cb-edfa61a15eaf')\"\n",
              "              title=\"Convert this dataframe to an interactive table.\"\n",
              "              style=\"display:none;\">\n",
              "        \n",
              "  <svg xmlns=\"http://www.w3.org/2000/svg\" height=\"24px\"viewBox=\"0 0 24 24\"\n",
              "       width=\"24px\">\n",
              "    <path d=\"M0 0h24v24H0V0z\" fill=\"none\"/>\n",
              "    <path d=\"M18.56 5.44l.94 2.06.94-2.06 2.06-.94-2.06-.94-.94-2.06-.94 2.06-2.06.94zm-11 1L8.5 8.5l.94-2.06 2.06-.94-2.06-.94L8.5 2.5l-.94 2.06-2.06.94zm10 10l.94 2.06.94-2.06 2.06-.94-2.06-.94-.94-2.06-.94 2.06-2.06.94z\"/><path d=\"M17.41 7.96l-1.37-1.37c-.4-.4-.92-.59-1.43-.59-.52 0-1.04.2-1.43.59L10.3 9.45l-7.72 7.72c-.78.78-.78 2.05 0 2.83L4 21.41c.39.39.9.59 1.41.59.51 0 1.02-.2 1.41-.59l7.78-7.78 2.81-2.81c.8-.78.8-2.07 0-2.86zM5.41 20L4 18.59l7.72-7.72 1.47 1.35L5.41 20z\"/>\n",
              "  </svg>\n",
              "      </button>\n",
              "      \n",
              "  <style>\n",
              "    .colab-df-container {\n",
              "      display:flex;\n",
              "      flex-wrap:wrap;\n",
              "      gap: 12px;\n",
              "    }\n",
              "\n",
              "    .colab-df-convert {\n",
              "      background-color: #E8F0FE;\n",
              "      border: none;\n",
              "      border-radius: 50%;\n",
              "      cursor: pointer;\n",
              "      display: none;\n",
              "      fill: #1967D2;\n",
              "      height: 32px;\n",
              "      padding: 0 0 0 0;\n",
              "      width: 32px;\n",
              "    }\n",
              "\n",
              "    .colab-df-convert:hover {\n",
              "      background-color: #E2EBFA;\n",
              "      box-shadow: 0px 1px 2px rgba(60, 64, 67, 0.3), 0px 1px 3px 1px rgba(60, 64, 67, 0.15);\n",
              "      fill: #174EA6;\n",
              "    }\n",
              "\n",
              "    [theme=dark] .colab-df-convert {\n",
              "      background-color: #3B4455;\n",
              "      fill: #D2E3FC;\n",
              "    }\n",
              "\n",
              "    [theme=dark] .colab-df-convert:hover {\n",
              "      background-color: #434B5C;\n",
              "      box-shadow: 0px 1px 3px 1px rgba(0, 0, 0, 0.15);\n",
              "      filter: drop-shadow(0px 1px 2px rgba(0, 0, 0, 0.3));\n",
              "      fill: #FFFFFF;\n",
              "    }\n",
              "  </style>\n",
              "\n",
              "      <script>\n",
              "        const buttonEl =\n",
              "          document.querySelector('#df-b2ae9e36-889f-4482-a9cb-edfa61a15eaf button.colab-df-convert');\n",
              "        buttonEl.style.display =\n",
              "          google.colab.kernel.accessAllowed ? 'block' : 'none';\n",
              "\n",
              "        async function convertToInteractive(key) {\n",
              "          const element = document.querySelector('#df-b2ae9e36-889f-4482-a9cb-edfa61a15eaf');\n",
              "          const dataTable =\n",
              "            await google.colab.kernel.invokeFunction('convertToInteractive',\n",
              "                                                     [key], {});\n",
              "          if (!dataTable) return;\n",
              "\n",
              "          const docLinkHtml = 'Like what you see? Visit the ' +\n",
              "            '<a target=\"_blank\" href=https://colab.research.google.com/notebooks/data_table.ipynb>data table notebook</a>'\n",
              "            + ' to learn more about interactive tables.';\n",
              "          element.innerHTML = '';\n",
              "          dataTable['output_type'] = 'display_data';\n",
              "          await google.colab.output.renderOutput(dataTable, element);\n",
              "          const docLink = document.createElement('div');\n",
              "          docLink.innerHTML = docLinkHtml;\n",
              "          element.appendChild(docLink);\n",
              "        }\n",
              "      </script>\n",
              "    </div>\n",
              "  </div>\n",
              "  "
            ]
          },
          "metadata": {},
          "execution_count": 187
        }
      ]
    },
    {
      "cell_type": "code",
      "source": [
        "df['room_type'].value_counts()"
      ],
      "metadata": {
        "colab": {
          "base_uri": "https://localhost:8080/"
        },
        "id": "KcEAUYe3Fqqf",
        "outputId": "be34ee01-bfe1-4159-8a12-3fcb20affc83"
      },
      "execution_count": 188,
      "outputs": [
        {
          "output_type": "execute_result",
          "data": {
            "text/plain": [
              "Entire home/apt    25409\n",
              "Private room       22326\n",
              "Shared room         1160\n",
              "Name: room_type, dtype: int64"
            ]
          },
          "metadata": {},
          "execution_count": 188
        }
      ]
    },
    {
      "cell_type": "code",
      "source": [
        "df['availability_365'].hist()"
      ],
      "metadata": {
        "colab": {
          "base_uri": "https://localhost:8080/",
          "height": 283
        },
        "id": "ElJJAayZRbvc",
        "outputId": "3794434c-f6c8-4c58-a0b7-faae6613f2d0"
      },
      "execution_count": 189,
      "outputs": [
        {
          "output_type": "execute_result",
          "data": {
            "text/plain": [
              "<matplotlib.axes._subplots.AxesSubplot at 0x7fbfeefafee0>"
            ]
          },
          "metadata": {},
          "execution_count": 189
        },
        {
          "output_type": "display_data",
          "data": {
            "text/plain": [
              "<Figure size 432x288 with 1 Axes>"
            ],
            "image/png": "[encoded data removed]"
          },
          "metadata": {
            "needs_background": "light"
          }
        }
      ]
    },
    {
      "cell_type": "code",
      "source": [
        "(df['availability_365'] == 0).sum()    #이용가능날이 0"
      ],
      "metadata": {
        "colab": {
          "base_uri": "https://localhost:8080/"
        },
        "id": "U1xKlzoRRefY",
        "outputId": "6cd1e56c-6e51-47c8-d9f8-e078e3ac4a27"
      },
      "execution_count": 190,
      "outputs": [
        {
          "output_type": "execute_result",
          "data": {
            "text/plain": [
              "17533"
            ]
          },
          "metadata": {},
          "execution_count": 190
        }
      ]
    },
    {
      "cell_type": "code",
      "source": [
        "(df['number_of_reviews'] == 0).sum()"
      ],
      "metadata": {
        "colab": {
          "base_uri": "https://localhost:8080/"
        },
        "id": "dwz9zHgYFnb3",
        "outputId": "7db67e1e-dd9c-4403-cc2d-52abfcd8e55d"
      },
      "execution_count": 191,
      "outputs": [
        {
          "output_type": "execute_result",
          "data": {
            "text/plain": [
              "10052"
            ]
          },
          "metadata": {},
          "execution_count": 191
        }
      ]
    },
    {
      "cell_type": "code",
      "source": [
        "sns.kdeplot(df['longitude'])\n",
        "plt.show()"
      ],
      "metadata": {
        "colab": {
          "base_uri": "https://localhost:8080/",
          "height": 279
        },
        "id": "ytVgVuauRh1L",
        "outputId": "6548b5f3-d32f-4079-aa08-dcb3f7597fef"
      },
      "execution_count": 192,
      "outputs": [
        {
          "output_type": "display_data",
          "data": {
            "text/plain": [
              "<Figure size 432x288 with 1 Axes>"
            ],
            "image/png": "[encoded data removed]"
          },
          "metadata": {
            "needs_background": "light"
          }
        }
      ]
    },
    {
      "cell_type": "code",
      "source": [
        "sns.kdeplot(df['longitude'])\n",
        "plt.show()"
      ],
      "metadata": {
        "colab": {
          "base_uri": "https://localhost:8080/",
          "height": 279
        },
        "id": "t1nN77WCRjFX",
        "outputId": "82904089-317b-4886-ceac-5642d4dbda12"
      },
      "execution_count": 193,
      "outputs": [
        {
          "output_type": "display_data",
          "data": {
            "text/plain": [
              "<Figure size 432x288 with 1 Axes>"
            ],
            "image/png": "[encoded data removed]"
          },
          "metadata": {
            "needs_background": "light"
          }
        }
      ]
    },
    {
      "cell_type": "code",
      "source": [
        "df.drop(['id', 'name', 'host_name', 'latitude', 'longitude'], axis=1, inplace=True)  \n"
      ],
      "metadata": {
        "id": "RUjkt8BnRkJK"
      },
      "execution_count": 194,
      "outputs": []
    },
    {
      "cell_type": "code",
      "source": [
        "df.head()"
      ],
      "metadata": {
        "colab": {
          "base_uri": "https://localhost:8080/",
          "height": 206
        },
        "id": "FB5HRGl1GRvn",
        "outputId": "29ea3f3d-eb85-4400-8688-59e21b5a5a93"
      },
      "execution_count": 195,
      "outputs": [
        {
          "output_type": "execute_result",
          "data": {
            "text/plain": [
              "   host_id neighbourhood_group neighbourhood        room_type  price  \\\n",
              "0     2787            Brooklyn    Kensington     Private room    149   \n",
              "1     2845           Manhattan       Midtown  Entire home/apt    225   \n",
              "2     4632           Manhattan        Harlem     Private room    150   \n",
              "3     4869            Brooklyn  Clinton Hill  Entire home/apt     89   \n",
              "4     7192           Manhattan   East Harlem  Entire home/apt     80   \n",
              "\n",
              "   minimum_nights  number_of_reviews last_review  reviews_per_month  \\\n",
              "0               1                  9  2018-10-19               0.21   \n",
              "1               1                 45  2019-05-21               0.38   \n",
              "2               3                  0         NaN                NaN   \n",
              "3               1                270  2019-07-05               4.64   \n",
              "4              10                  9  2018-11-19               0.10   \n",
              "\n",
              "   calculated_host_listings_count  availability_365  \n",
              "0                               6               365  \n",
              "1                               2               355  \n",
              "2                               1               365  \n",
              "3                               1               194  \n",
              "4                               1                 0  "
            ],
            "text/html": [
              "\n",
              "  <div id=\"df-e3383737-8bd6-4e01-8ca2-39783318d1bc\">\n",
              "    <div class=\"colab-df-container\">\n",
              "      <div>\n",
              "<style scoped>\n",
              "    .dataframe tbody tr th:only-of-type {\n",
              "        vertical-align: middle;\n",
              "    }\n",
              "\n",
              "    .dataframe tbody tr th {\n",
              "        vertical-align: top;\n",
              "    }\n",
              "\n",
              "    .dataframe thead th {\n",
              "        text-align: right;\n",
              "    }\n",
              "</style>\n",
              "<table border=\"1\" class=\"dataframe\">\n",
              "  <thead>\n",
              "    <tr style=\"text-align: right;\">\n",
              "      <th></th>\n",
              "      <th>host_id</th>\n",
              "      <th>neighbourhood_group</th>\n",
              "      <th>neighbourhood</th>\n",
              "      <th>room_type</th>\n",
              "      <th>price</th>\n",
              "      <th>minimum_nights</th>\n",
              "      <th>number_of_reviews</th>\n",
              "      <th>last_review</th>\n",
              "      <th>reviews_per_month</th>\n",
              "      <th>calculated_host_listings_count</th>\n",
              "      <th>availability_365</th>\n",
              "    </tr>\n",
              "  </thead>\n",
              "  <tbody>\n",
              "    <tr>\n",
              "      <th>0</th>\n",
              "      <td>2787</td>\n",
              "      <td>Brooklyn</td>\n",
              "      <td>Kensington</td>\n",
              "      <td>Private room</td>\n",
              "      <td>149</td>\n",
              "      <td>1</td>\n",
              "      <td>9</td>\n",
              "      <td>2018-10-19</td>\n",
              "      <td>0.21</td>\n",
              "      <td>6</td>\n",
              "      <td>365</td>\n",
              "    </tr>\n",
              "    <tr>\n",
              "      <th>1</th>\n",
              "      <td>2845</td>\n",
              "      <td>Manhattan</td>\n",
              "      <td>Midtown</td>\n",
              "      <td>Entire home/apt</td>\n",
              "      <td>225</td>\n",
              "      <td>1</td>\n",
              "      <td>45</td>\n",
              "      <td>2019-05-21</td>\n",
              "      <td>0.38</td>\n",
              "      <td>2</td>\n",
              "      <td>355</td>\n",
              "    </tr>\n",
              "    <tr>\n",
              "      <th>2</th>\n",
              "      <td>4632</td>\n",
              "      <td>Manhattan</td>\n",
              "      <td>Harlem</td>\n",
              "      <td>Private room</td>\n",
              "      <td>150</td>\n",
              "      <td>3</td>\n",
              "      <td>0</td>\n",
              "      <td>NaN</td>\n",
              "      <td>NaN</td>\n",
              "      <td>1</td>\n",
              "      <td>365</td>\n",
              "    </tr>\n",
              "    <tr>\n",
              "      <th>3</th>\n",
              "      <td>4869</td>\n",
              "      <td>Brooklyn</td>\n",
              "      <td>Clinton Hill</td>\n",
              "      <td>Entire home/apt</td>\n",
              "      <td>89</td>\n",
              "      <td>1</td>\n",
              "      <td>270</td>\n",
              "      <td>2019-07-05</td>\n",
              "      <td>4.64</td>\n",
              "      <td>1</td>\n",
              "      <td>194</td>\n",
              "    </tr>\n",
              "    <tr>\n",
              "      <th>4</th>\n",
              "      <td>7192</td>\n",
              "      <td>Manhattan</td>\n",
              "      <td>East Harlem</td>\n",
              "      <td>Entire home/apt</td>\n",
              "      <td>80</td>\n",
              "      <td>10</td>\n",
              "      <td>9</td>\n",
              "      <td>2018-11-19</td>\n",
              "      <td>0.10</td>\n",
              "      <td>1</td>\n",
              "      <td>0</td>\n",
              "    </tr>\n",
              "  </tbody>\n",
              "</table>\n",
              "</div>\n",
              "      <button class=\"colab-df-convert\" onclick=\"convertToInteractive('df-e3383737-8bd6-4e01-8ca2-39783318d1bc')\"\n",
              "              title=\"Convert this dataframe to an interactive table.\"\n",
              "              style=\"display:none;\">\n",
              "        \n",
              "  <svg xmlns=\"http://www.w3.org/2000/svg\" height=\"24px\"viewBox=\"0 0 24 24\"\n",
              "       width=\"24px\">\n",
              "    <path d=\"M0 0h24v24H0V0z\" fill=\"none\"/>\n",
              "    <path d=\"M18.56 5.44l.94 2.06.94-2.06 2.06-.94-2.06-.94-.94-2.06-.94 2.06-2.06.94zm-11 1L8.5 8.5l.94-2.06 2.06-.94-2.06-.94L8.5 2.5l-.94 2.06-2.06.94zm10 10l.94 2.06.94-2.06 2.06-.94-2.06-.94-.94-2.06-.94 2.06-2.06.94z\"/><path d=\"M17.41 7.96l-1.37-1.37c-.4-.4-.92-.59-1.43-.59-.52 0-1.04.2-1.43.59L10.3 9.45l-7.72 7.72c-.78.78-.78 2.05 0 2.83L4 21.41c.39.39.9.59 1.41.59.51 0 1.02-.2 1.41-.59l7.78-7.78 2.81-2.81c.8-.78.8-2.07 0-2.86zM5.41 20L4 18.59l7.72-7.72 1.47 1.35L5.41 20z\"/>\n",
              "  </svg>\n",
              "      </button>\n",
              "      \n",
              "  <style>\n",
              "    .colab-df-container {\n",
              "      display:flex;\n",
              "      flex-wrap:wrap;\n",
              "      gap: 12px;\n",
              "    }\n",
              "\n",
              "    .colab-df-convert {\n",
              "      background-color: #E8F0FE;\n",
              "      border: none;\n",
              "      border-radius: 50%;\n",
              "      cursor: pointer;\n",
              "      display: none;\n",
              "      fill: #1967D2;\n",
              "      height: 32px;\n",
              "      padding: 0 0 0 0;\n",
              "      width: 32px;\n",
              "    }\n",
              "\n",
              "    .colab-df-convert:hover {\n",
              "      background-color: #E2EBFA;\n",
              "      box-shadow: 0px 1px 2px rgba(60, 64, 67, 0.3), 0px 1px 3px 1px rgba(60, 64, 67, 0.15);\n",
              "      fill: #174EA6;\n",
              "    }\n",
              "\n",
              "    [theme=dark] .colab-df-convert {\n",
              "      background-color: #3B4455;\n",
              "      fill: #D2E3FC;\n",
              "    }\n",
              "\n",
              "    [theme=dark] .colab-df-convert:hover {\n",
              "      background-color: #434B5C;\n",
              "      box-shadow: 0px 1px 3px 1px rgba(0, 0, 0, 0.15);\n",
              "      filter: drop-shadow(0px 1px 2px rgba(0, 0, 0, 0.3));\n",
              "      fill: #FFFFFF;\n",
              "    }\n",
              "  </style>\n",
              "\n",
              "      <script>\n",
              "        const buttonEl =\n",
              "          document.querySelector('#df-e3383737-8bd6-4e01-8ca2-39783318d1bc button.colab-df-convert');\n",
              "        buttonEl.style.display =\n",
              "          google.colab.kernel.accessAllowed ? 'block' : 'none';\n",
              "\n",
              "        async function convertToInteractive(key) {\n",
              "          const element = document.querySelector('#df-e3383737-8bd6-4e01-8ca2-39783318d1bc');\n",
              "          const dataTable =\n",
              "            await google.colab.kernel.invokeFunction('convertToInteractive',\n",
              "                                                     [key], {});\n",
              "          if (!dataTable) return;\n",
              "\n",
              "          const docLinkHtml = 'Like what you see? Visit the ' +\n",
              "            '<a target=\"_blank\" href=https://colab.research.google.com/notebooks/data_table.ipynb>data table notebook</a>'\n",
              "            + ' to learn more about interactive tables.';\n",
              "          element.innerHTML = '';\n",
              "          dataTable['output_type'] = 'display_data';\n",
              "          await google.colab.output.renderOutput(dataTable, element);\n",
              "          const docLink = document.createElement('div');\n",
              "          docLink.innerHTML = docLinkHtml;\n",
              "          element.appendChild(docLink);\n",
              "        }\n",
              "      </script>\n",
              "    </div>\n",
              "  </div>\n",
              "  "
            ]
          },
          "metadata": {},
          "execution_count": 195
        }
      ]
    },
    {
      "cell_type": "markdown",
      "source": [
        "수치형 데이터"
      ],
      "metadata": {
        "id": "H0OOGMvWGTW1"
      }
    },
    {
      "cell_type": "code",
      "source": [
        "sns.jointplot(x='host_id', y='price', data=df)"
      ],
      "metadata": {
        "colab": {
          "base_uri": "https://localhost:8080/",
          "height": 459
        },
        "id": "xUVqOMQcRncO",
        "outputId": "6668d543-ba14-45d6-ba36-6a453e395dce"
      },
      "execution_count": 196,
      "outputs": [
        {
          "output_type": "execute_result",
          "data": {
            "text/plain": [
              "<seaborn.axisgrid.JointGrid at 0x7fbfeefb4af0>"
            ]
          },
          "metadata": {},
          "execution_count": 196
        },
        {
          "output_type": "display_data",
          "data": {
            "text/plain": [
              "<Figure size 432x432 with 3 Axes>"
            ],
            "image/png": "[encoded data removed]"
          },
          "metadata": {
            "needs_background": "light"
          }
        }
      ]
    },
    {
      "cell_type": "code",
      "source": [
        "sns.jointplot(x='reviews_per_month', y='price', data=df)"
      ],
      "metadata": {
        "colab": {
          "base_uri": "https://localhost:8080/",
          "height": 459
        },
        "id": "ovfL_Xb0RowP",
        "outputId": "97c7bb0d-4a51-4c1e-fc5c-9d1b3ae1dd95"
      },
      "execution_count": 197,
      "outputs": [
        {
          "output_type": "execute_result",
          "data": {
            "text/plain": [
              "<seaborn.axisgrid.JointGrid at 0x7fbfee7afc40>"
            ]
          },
          "metadata": {},
          "execution_count": 197
        },
        {
          "output_type": "display_data",
          "data": {
            "text/plain": [
              "<Figure size 432x432 with 3 Axes>"
            ],
            "image/png": "[encoded data removed]"
          },
          "metadata": {
            "needs_background": "light"
          }
        }
      ]
    },
    {
      "cell_type": "code",
      "source": [
        "sns.heatmap(df.corr(), annot=True, cmap='YlOrRd')"
      ],
      "metadata": {
        "colab": {
          "base_uri": "https://localhost:8080/",
          "height": 429
        },
        "id": "_jzTATCuSoxg",
        "outputId": "dc0cc81d-4af7-4c41-c318-f3d53f314a90"
      },
      "execution_count": 198,
      "outputs": [
        {
          "output_type": "execute_result",
          "data": {
            "text/plain": [
              "<matplotlib.axes._subplots.AxesSubplot at 0x7fbfec151700>"
            ]
          },
          "metadata": {},
          "execution_count": 198
        },
        {
          "output_type": "display_data",
          "data": {
            "text/plain": [
              "<Figure size 432x288 with 2 Axes>"
            ],
            "image/png": "[encoded data removed]"
          },
          "metadata": {
            "needs_background": "light"
          }
        }
      ]
    },
    {
      "cell_type": "code",
      "source": [
        "df.columns"
      ],
      "metadata": {
        "colab": {
          "base_uri": "https://localhost:8080/"
        },
        "id": "Gwr5ms_jTKoO",
        "outputId": "47470665-c1d2-4b05-86d1-bd1d0013558c"
      },
      "execution_count": 199,
      "outputs": [
        {
          "output_type": "execute_result",
          "data": {
            "text/plain": [
              "Index(['host_id', 'neighbourhood_group', 'neighbourhood', 'room_type', 'price',\n",
              "       'minimum_nights', 'number_of_reviews', 'last_review',\n",
              "       'reviews_per_month', 'calculated_host_listings_count',\n",
              "       'availability_365'],\n",
              "      dtype='object')"
            ]
          },
          "metadata": {},
          "execution_count": 199
        }
      ]
    },
    {
      "cell_type": "code",
      "source": [
        "sns.boxplot(x='neighbourhood_group', y='price', data=df)"
      ],
      "metadata": {
        "colab": {
          "base_uri": "https://localhost:8080/",
          "height": 298
        },
        "id": "ATGJE1lzTMTT",
        "outputId": "4060e566-2620-48b3-dd3a-a6ac8ebad625"
      },
      "execution_count": 200,
      "outputs": [
        {
          "output_type": "execute_result",
          "data": {
            "text/plain": [
              "<matplotlib.axes._subplots.AxesSubplot at 0x7fbfecfb8220>"
            ]
          },
          "metadata": {},
          "execution_count": 200
        },
        {
          "output_type": "display_data",
          "data": {
            "text/plain": [
              "<Figure size 432x288 with 1 Axes>"
            ],
            "image/png": "[encoded data removed]"
          },
          "metadata": {
            "needs_background": "light"
          }
        }
      ]
    },
    {
      "cell_type": "code",
      "source": [
        "sns.boxplot(x='room_type', y='price', data=df)"
      ],
      "metadata": {
        "colab": {
          "base_uri": "https://localhost:8080/",
          "height": 298
        },
        "id": "uaBmlSpoTOlz",
        "outputId": "4b592d4c-1eeb-4f89-bc8c-ecaf673f7f7b"
      },
      "execution_count": 201,
      "outputs": [
        {
          "output_type": "execute_result",
          "data": {
            "text/plain": [
              "<matplotlib.axes._subplots.AxesSubplot at 0x7fbfebd9ac10>"
            ]
          },
          "metadata": {},
          "execution_count": 201
        },
        {
          "output_type": "display_data",
          "data": {
            "text/plain": [
              "<Figure size 432x288 with 1 Axes>"
            ],
            "image/png": "[encoded data removed]"
          },
          "metadata": {
            "needs_background": "light"
          }
        }
      ]
    },
    {
      "cell_type": "markdown",
      "source": [
        "data clean"
      ],
      "metadata": {
        "id": "418xhYdQTSN-"
      }
    },
    {
      "cell_type": "code",
      "source": [
        "df.isnull().sum()"
      ],
      "metadata": {
        "colab": {
          "base_uri": "https://localhost:8080/"
        },
        "id": "MWW7wcvwTQol",
        "outputId": "b313e3ab-165a-4357-f4c1-156d10eec86f"
      },
      "execution_count": 202,
      "outputs": [
        {
          "output_type": "execute_result",
          "data": {
            "text/plain": [
              "host_id                               0\n",
              "neighbourhood_group                   0\n",
              "neighbourhood                         0\n",
              "room_type                             0\n",
              "price                                 0\n",
              "minimum_nights                        0\n",
              "number_of_reviews                     0\n",
              "last_review                       10052\n",
              "reviews_per_month                 10052\n",
              "calculated_host_listings_count        0\n",
              "availability_365                      0\n",
              "dtype: int64"
            ]
          },
          "metadata": {},
          "execution_count": 202
        }
      ]
    },
    {
      "cell_type": "code",
      "source": [
        "df['neighbourhood_group'].value_counts()"
      ],
      "metadata": {
        "colab": {
          "base_uri": "https://localhost:8080/"
        },
        "id": "ypaa8Oy2TWo1",
        "outputId": "66f06fe8-265c-439b-a881-918e54cabf5f"
      },
      "execution_count": 203,
      "outputs": [
        {
          "output_type": "execute_result",
          "data": {
            "text/plain": [
              "Manhattan        21661\n",
              "Brooklyn         20104\n",
              "Queens            5666\n",
              "Bronx             1091\n",
              "Staten Island      373\n",
              "Name: neighbourhood_group, dtype: int64"
            ]
          },
          "metadata": {},
          "execution_count": 203
        }
      ]
    },
    {
      "cell_type": "code",
      "source": [
        "df['neighbourhood'].value_counts()"
      ],
      "metadata": {
        "colab": {
          "base_uri": "https://localhost:8080/"
        },
        "id": "Jo15PmhlG5L5",
        "outputId": "5f2d4ce3-cd38-4003-bd0e-79078154eea3"
      },
      "execution_count": 204,
      "outputs": [
        {
          "output_type": "execute_result",
          "data": {
            "text/plain": [
              "Williamsburg          3920\n",
              "Bedford-Stuyvesant    3714\n",
              "Harlem                2658\n",
              "Bushwick              2465\n",
              "Upper West Side       1971\n",
              "                      ... \n",
              "Fort Wadsworth           1\n",
              "Richmondtown             1\n",
              "New Dorp                 1\n",
              "Rossville                1\n",
              "Willowbrook              1\n",
              "Name: neighbourhood, Length: 221, dtype: int64"
            ]
          },
          "metadata": {},
          "execution_count": 204
        }
      ]
    },
    {
      "cell_type": "code",
      "source": [
        "neigh = df['neighbourhood'].value_counts()\n",
        "plt.plot(range(len(neigh)), neigh)"
      ],
      "metadata": {
        "colab": {
          "base_uri": "https://localhost:8080/",
          "height": 283
        },
        "id": "71e9utcKTZh9",
        "outputId": "d97df09e-d9eb-487d-a0c3-0a5b639dd113"
      },
      "execution_count": 205,
      "outputs": [
        {
          "output_type": "execute_result",
          "data": {
            "text/plain": [
              "[<matplotlib.lines.Line2D at 0x7fbfebd55970>]"
            ]
          },
          "metadata": {},
          "execution_count": 205
        },
        {
          "output_type": "display_data",
          "data": {
            "text/plain": [
              "<Figure size 432x288 with 1 Axes>"
            ],
            "image/png": "[encoded data removed]"
          },
          "metadata": {
            "needs_background": "light"
          }
        }
      ]
    },
    {
      "cell_type": "code",
      "source": [
        "df['neighbourhood'] = df['neighbourhood'].apply(lambda s: s if str(s) not in neigh[50:] else 'others')"
      ],
      "metadata": {
        "id": "pC6D4GkJTcGL"
      },
      "execution_count": 206,
      "outputs": []
    },
    {
      "cell_type": "code",
      "source": [
        "df['neighbourhood'].value_counts()"
      ],
      "metadata": {
        "colab": {
          "base_uri": "https://localhost:8080/"
        },
        "id": "168tx1w0TeLv",
        "outputId": "bbf921a2-f951-4a84-c02c-7be35849558b"
      },
      "execution_count": 207,
      "outputs": [
        {
          "output_type": "execute_result",
          "data": {
            "text/plain": [
              "others                       6248\n",
              "Williamsburg                 3920\n",
              "Bedford-Stuyvesant           3714\n",
              "Harlem                       2658\n",
              "Bushwick                     2465\n",
              "Upper West Side              1971\n",
              "Hell's Kitchen               1958\n",
              "East Village                 1853\n",
              "Upper East Side              1798\n",
              "Crown Heights                1564\n",
              "Midtown                      1545\n",
              "East Harlem                  1117\n",
              "Greenpoint                   1115\n",
              "Chelsea                      1113\n",
              "Lower East Side               911\n",
              "Astoria                       900\n",
              "Washington Heights            899\n",
              "West Village                  768\n",
              "Financial District            744\n",
              "Flatbush                      621\n",
              "Clinton Hill                  572\n",
              "Long Island City              537\n",
              "Prospect-Lefferts Gardens     535\n",
              "Park Slope                    506\n",
              "East Flatbush                 500\n",
              "Fort Greene                   489\n",
              "Murray Hill                   485\n",
              "Kips Bay                      470\n",
              "Flushing                      426\n",
              "Ridgewood                     423\n",
              "Greenwich Village             392\n",
              "Sunset Park                   390\n",
              "Chinatown                     368\n",
              "Sunnyside                     363\n",
              "SoHo                          358\n",
              "Prospect Heights              357\n",
              "Morningside Heights           346\n",
              "Gramercy                      338\n",
              "Ditmars Steinway              309\n",
              "Theater District              288\n",
              "South Slope                   284\n",
              "Nolita                        253\n",
              "Inwood                        252\n",
              "Gowanus                       247\n",
              "Elmhurst                      237\n",
              "Woodside                      235\n",
              "Carroll Gardens               233\n",
              "Jamaica                       231\n",
              "East New York                 218\n",
              "Jackson Heights               186\n",
              "East Elmhurst                 185\n",
              "Name: neighbourhood, dtype: int64"
            ]
          },
          "metadata": {},
          "execution_count": 207
        }
      ]
    },
    {
      "cell_type": "code",
      "source": [
        "df['room_type'].value_counts()"
      ],
      "metadata": {
        "colab": {
          "base_uri": "https://localhost:8080/"
        },
        "id": "RDAPs4JwTgbu",
        "outputId": "fa9fe4b0-d09e-4fef-d026-cececaf54934"
      },
      "execution_count": 208,
      "outputs": [
        {
          "output_type": "execute_result",
          "data": {
            "text/plain": [
              "Entire home/apt    25409\n",
              "Private room       22326\n",
              "Shared room         1160\n",
              "Name: room_type, dtype: int64"
            ]
          },
          "metadata": {},
          "execution_count": 208
        }
      ]
    },
    {
      "cell_type": "code",
      "source": [
        "sns.rugplot(x='price', data=df, height=1)"
      ],
      "metadata": {
        "colab": {
          "base_uri": "https://localhost:8080/",
          "height": 297
        },
        "id": "9x-EMZoJTjlq",
        "outputId": "eed208f6-64f2-4b47-b747-7263cc392ffd"
      },
      "execution_count": 209,
      "outputs": [
        {
          "output_type": "execute_result",
          "data": {
            "text/plain": [
              "<matplotlib.axes._subplots.AxesSubplot at 0x7fbfebd09880>"
            ]
          },
          "metadata": {},
          "execution_count": 209
        },
        {
          "output_type": "display_data",
          "data": {
            "text/plain": [
              "<Figure size 432x288 with 1 Axes>"
            ],
            "image/png": "[encoded data removed]"
          },
          "metadata": {
            "needs_background": "light"
          }
        }
      ]
    },
    {
      "cell_type": "code",
      "source": [
        "print(df['price'].quantile(0.95))\n",
        "print(df['price'].quantile(0.005))"
      ],
      "metadata": {
        "colab": {
          "base_uri": "https://localhost:8080/"
        },
        "id": "pqUtY70MTk9d",
        "outputId": "95300eb7-572b-412a-ef71-866c87ee32e9"
      },
      "execution_count": 210,
      "outputs": [
        {
          "output_type": "stream",
          "name": "stdout",
          "text": [
            "355.0\n",
            "26.0\n"
          ]
        }
      ]
    },
    {
      "cell_type": "code",
      "source": [
        "sns.rugplot(x='minimum_nights', data=df, height=1)"
      ],
      "metadata": {
        "id": "3k7ifxAmTmEO",
        "outputId": "18b89959-29a5-4966-dbdd-2c1868b4d4aa",
        "colab": {
          "base_uri": "https://localhost:8080/",
          "height": 298
        }
      },
      "execution_count": 211,
      "outputs": [
        {
          "output_type": "execute_result",
          "data": {
            "text/plain": [
              "<matplotlib.axes._subplots.AxesSubplot at 0x7fbfea447b80>"
            ]
          },
          "metadata": {},
          "execution_count": 211
        },
        {
          "output_type": "display_data",
          "data": {
            "text/plain": [
              "<Figure size 432x288 with 1 Axes>"
            ],
            "image/png": "[encoded data removed]"
          },
          "metadata": {
            "needs_background": "light"
          }
        }
      ]
    },
    {
      "cell_type": "code",
      "source": [
        "print(df['minimum_nights'].quantile(0.98))"
      ],
      "metadata": {
        "id": "2BJyIeLETnec",
        "outputId": "beea935d-43e7-4f19-9f99-fdb54540256c",
        "colab": {
          "base_uri": "https://localhost:8080/"
        }
      },
      "execution_count": 212,
      "outputs": [
        {
          "output_type": "stream",
          "name": "stdout",
          "text": [
            "30.0\n"
          ]
        }
      ]
    },
    {
      "cell_type": "code",
      "source": [
        "sns.rugplot(x='availability_365', data=df, height=1)"
      ],
      "metadata": {
        "id": "vn2p_9mUTorw",
        "outputId": "61d7034a-f041-4cb8-b929-0caa8a655938",
        "colab": {
          "base_uri": "https://localhost:8080/",
          "height": 298
        }
      },
      "execution_count": 213,
      "outputs": [
        {
          "output_type": "execute_result",
          "data": {
            "text/plain": [
              "<matplotlib.axes._subplots.AxesSubplot at 0x7fbfe8b2be20>"
            ]
          },
          "metadata": {},
          "execution_count": 213
        },
        {
          "output_type": "display_data",
          "data": {
            "text/plain": [
              "<Figure size 432x288 with 1 Axes>"
            ],
            "image/png": "[encoded data removed]"
          },
          "metadata": {
            "needs_background": "light"
          }
        }
      ]
    },
    {
      "cell_type": "code",
      "source": [
        "print(df['availability_365'].quantile(0.3))"
      ],
      "metadata": {
        "id": "rf6cXdBCTpwD",
        "outputId": "49b6b734-9dc0-4f60-aae5-a1d770a3ae45",
        "colab": {
          "base_uri": "https://localhost:8080/"
        }
      },
      "execution_count": 214,
      "outputs": [
        {
          "output_type": "stream",
          "name": "stdout",
          "text": [
            "0.0\n"
          ]
        }
      ]
    },
    {
      "cell_type": "code",
      "source": [
        "print(df['availability_365'].quantile(0.98))"
      ],
      "metadata": {
        "id": "6ModphRoTrHT",
        "colab": {
          "base_uri": "https://localhost:8080/"
        },
        "outputId": "631fbe26-4001-4fb1-b220-b55272e6aad5"
      },
      "execution_count": 215,
      "outputs": [
        {
          "output_type": "stream",
          "name": "stdout",
          "text": [
            "365.0\n"
          ]
        }
      ]
    },
    {
      "cell_type": "markdown",
      "source": [
        "outlier 제거"
      ],
      "metadata": {
        "id": "0-8mc6eKH6on"
      }
    },
    {
      "cell_type": "code",
      "source": [
        "# quantile(), drop() 등 메소드를 이용하여 outlier 제거하고 통계 재분석하기\n",
        "p1 = df['price'].quantile(0.95)\n",
        "p2 = df['price'].quantile(0.005)\n",
        "print(p1, p2)"
      ],
      "metadata": {
        "colab": {
          "base_uri": "https://localhost:8080/"
        },
        "id": "cnS_ESYeHwnW",
        "outputId": "d155cc8d-af17-4bdb-b889-b0c291da4c06"
      },
      "execution_count": 216,
      "outputs": [
        {
          "output_type": "stream",
          "name": "stdout",
          "text": [
            "355.0 26.0\n"
          ]
        }
      ]
    },
    {
      "cell_type": "code",
      "source": [
        "df = df[(df['price'] < p1) & (df['price'] > p2)]"
      ],
      "metadata": {
        "id": "j8_mzKkWH9_B"
      },
      "execution_count": 217,
      "outputs": []
    },
    {
      "cell_type": "code",
      "source": [
        "df['price'].hist()"
      ],
      "metadata": {
        "colab": {
          "base_uri": "https://localhost:8080/",
          "height": 283
        },
        "id": "T8dXtkFxH-_8",
        "outputId": "0610e030-010c-4831-aaf6-fa64511be614"
      },
      "execution_count": 218,
      "outputs": [
        {
          "output_type": "execute_result",
          "data": {
            "text/plain": [
              "<matplotlib.axes._subplots.AxesSubplot at 0x7fbfe72857c0>"
            ]
          },
          "metadata": {},
          "execution_count": 218
        },
        {
          "output_type": "display_data",
          "data": {
            "text/plain": [
              "<Figure size 432x288 with 1 Axes>"
            ],
            "image/png": "[encoded data removed]"
          },
          "metadata": {
            "needs_background": "light"
          }
        }
      ]
    },
    {
      "cell_type": "code",
      "source": [
        "mn1 = df['minimum_nights'].quantile(0.98)\n",
        "print(mn1)"
      ],
      "metadata": {
        "colab": {
          "base_uri": "https://localhost:8080/"
        },
        "id": "NHj7YirsIAA2",
        "outputId": "47fae913-cd14-446c-dd65-f0c50b3ab960"
      },
      "execution_count": 219,
      "outputs": [
        {
          "output_type": "stream",
          "name": "stdout",
          "text": [
            "30.0\n"
          ]
        }
      ]
    },
    {
      "cell_type": "code",
      "source": [
        "df = df[df['minimum_nights'] < mn1]"
      ],
      "metadata": {
        "id": "Jx0bjPjPIBCG"
      },
      "execution_count": 220,
      "outputs": []
    },
    {
      "cell_type": "code",
      "source": [
        "df['minimum_nights'].hist()"
      ],
      "metadata": {
        "colab": {
          "base_uri": "https://localhost:8080/",
          "height": 283
        },
        "id": "d8V6DNf0ICJc",
        "outputId": "49336149-892a-4fce-93bc-1d75f02a65b5"
      },
      "execution_count": 221,
      "outputs": [
        {
          "output_type": "execute_result",
          "data": {
            "text/plain": [
              "<matplotlib.axes._subplots.AxesSubplot at 0x7fbfe71f9250>"
            ]
          },
          "metadata": {},
          "execution_count": 221
        },
        {
          "output_type": "display_data",
          "data": {
            "text/plain": [
              "<Figure size 432x288 with 1 Axes>"
            ],
            "image/png": "[encoded data removed]"
          },
          "metadata": {
            "needs_background": "light"
          }
        }
      ]
    },
    {
      "cell_type": "markdown",
      "source": [
        "feature enginering"
      ],
      "metadata": {
        "id": "K7j4AhvnIg1-"
      }
    },
    {
      "cell_type": "code",
      "source": [
        "df['is_avail_zero'] = df['availability_365'].apply(lambda x: 'Zero' if x==0 else 'Nonzero')\n",
        "df['is_avail_zero']"
      ],
      "metadata": {
        "colab": {
          "base_uri": "https://localhost:8080/"
        },
        "id": "3QP3QMQgIDHj",
        "outputId": "798c79d2-7215-47f7-dbeb-9a5a99ebef23"
      },
      "execution_count": 222,
      "outputs": [
        {
          "output_type": "execute_result",
          "data": {
            "text/plain": [
              "0        Nonzero\n",
              "1        Nonzero\n",
              "2        Nonzero\n",
              "3        Nonzero\n",
              "4           Zero\n",
              "          ...   \n",
              "48890    Nonzero\n",
              "48891    Nonzero\n",
              "48892    Nonzero\n",
              "48893    Nonzero\n",
              "48894    Nonzero\n",
              "Name: is_avail_zero, Length: 41980, dtype: object"
            ]
          },
          "metadata": {},
          "execution_count": 222
        }
      ]
    },
    {
      "cell_type": "code",
      "source": [
        "# fill(), dropna() 등으로 미기입된 데이터를 처리하기\n",
        "df['review_exists'] = df['reviews_per_month'].isna().apply(lambda x: 'No' if x is True else 'Yes')"
      ],
      "metadata": {
        "id": "03WEqnlNIPb8"
      },
      "execution_count": 223,
      "outputs": []
    },
    {
      "cell_type": "code",
      "source": [
        "df.fillna(0, inplace=True)"
      ],
      "metadata": {
        "id": "bHwwoVvuIPXN"
      },
      "execution_count": 224,
      "outputs": []
    },
    {
      "cell_type": "code",
      "source": [
        "df.isna().sum()"
      ],
      "metadata": {
        "colab": {
          "base_uri": "https://localhost:8080/"
        },
        "id": "JkrLcBUFIE2v",
        "outputId": "7232eb3a-e5db-4dab-b914-1099e90b0f90"
      },
      "execution_count": 225,
      "outputs": [
        {
          "output_type": "execute_result",
          "data": {
            "text/plain": [
              "host_id                           0\n",
              "neighbourhood_group               0\n",
              "neighbourhood                     0\n",
              "room_type                         0\n",
              "price                             0\n",
              "minimum_nights                    0\n",
              "number_of_reviews                 0\n",
              "last_review                       0\n",
              "reviews_per_month                 0\n",
              "calculated_host_listings_count    0\n",
              "availability_365                  0\n",
              "is_avail_zero                     0\n",
              "review_exists                     0\n",
              "dtype: int64"
            ]
          },
          "metadata": {},
          "execution_count": 225
        }
      ]
    },
    {
      "cell_type": "markdown",
      "source": [
        "범주형"
      ],
      "metadata": {
        "id": "NWQm-F85IpsX"
      }
    },
    {
      "cell_type": "code",
      "source": [
        "X_cat = df[['neighbourhood_group', 'neighbourhood', 'room_type', 'is_avail_zero', 'review_exists']]\n",
        "X_cat = pd.get_dummies(X_cat)\n",
        "X_cat"
      ],
      "metadata": {
        "colab": {
          "base_uri": "https://localhost:8080/",
          "height": 505
        },
        "id": "5Y8TzFqWIZLi",
        "outputId": "19e2e18e-738c-4839-bdac-d190d16b799c"
      },
      "execution_count": 226,
      "outputs": [
        {
          "output_type": "execute_result",
          "data": {
            "text/plain": [
              "       neighbourhood_group_Bronx  neighbourhood_group_Brooklyn  \\\n",
              "0                              0                             1   \n",
              "1                              0                             0   \n",
              "2                              0                             0   \n",
              "3                              0                             1   \n",
              "4                              0                             0   \n",
              "...                          ...                           ...   \n",
              "48890                          0                             1   \n",
              "48891                          0                             1   \n",
              "48892                          0                             0   \n",
              "48893                          0                             0   \n",
              "48894                          0                             0   \n",
              "\n",
              "       neighbourhood_group_Manhattan  neighbourhood_group_Queens  \\\n",
              "0                                  0                           0   \n",
              "1                                  1                           0   \n",
              "2                                  1                           0   \n",
              "3                                  0                           0   \n",
              "4                                  1                           0   \n",
              "...                              ...                         ...   \n",
              "48890                              0                           0   \n",
              "48891                              0                           0   \n",
              "48892                              1                           0   \n",
              "48893                              1                           0   \n",
              "48894                              1                           0   \n",
              "\n",
              "       neighbourhood_group_Staten Island  neighbourhood_Astoria  \\\n",
              "0                                      0                      0   \n",
              "1                                      0                      0   \n",
              "2                                      0                      0   \n",
              "3                                      0                      0   \n",
              "4                                      0                      0   \n",
              "...                                  ...                    ...   \n",
              "48890                                  0                      0   \n",
              "48891                                  0                      0   \n",
              "48892                                  0                      0   \n",
              "48893                                  0                      0   \n",
              "48894                                  0                      0   \n",
              "\n",
              "       neighbourhood_Bedford-Stuyvesant  neighbourhood_Bushwick  \\\n",
              "0                                     0                       0   \n",
              "1                                     0                       0   \n",
              "2                                     0                       0   \n",
              "3                                     0                       0   \n",
              "4                                     0                       0   \n",
              "...                                 ...                     ...   \n",
              "48890                                 1                       0   \n",
              "48891                                 0                       1   \n",
              "48892                                 0                       0   \n",
              "48893                                 0                       0   \n",
              "48894                                 0                       0   \n",
              "\n",
              "       neighbourhood_Carroll Gardens  neighbourhood_Chelsea  ...  \\\n",
              "0                                  0                      0  ...   \n",
              "1                                  0                      0  ...   \n",
              "2                                  0                      0  ...   \n",
              "3                                  0                      0  ...   \n",
              "4                                  0                      0  ...   \n",
              "...                              ...                    ...  ...   \n",
              "48890                              0                      0  ...   \n",
              "48891                              0                      0  ...   \n",
              "48892                              0                      0  ...   \n",
              "48893                              0                      0  ...   \n",
              "48894                              0                      0  ...   \n",
              "\n",
              "       neighbourhood_Williamsburg  neighbourhood_Woodside  \\\n",
              "0                               0                       0   \n",
              "1                               0                       0   \n",
              "2                               0                       0   \n",
              "3                               0                       0   \n",
              "4                               0                       0   \n",
              "...                           ...                     ...   \n",
              "48890                           0                       0   \n",
              "48891                           0                       0   \n",
              "48892                           0                       0   \n",
              "48893                           0                       0   \n",
              "48894                           0                       0   \n",
              "\n",
              "       neighbourhood_others  room_type_Entire home/apt  \\\n",
              "0                         1                          0   \n",
              "1                         0                          1   \n",
              "2                         0                          0   \n",
              "3                         0                          1   \n",
              "4                         0                          1   \n",
              "...                     ...                        ...   \n",
              "48890                     0                          0   \n",
              "48891                     0                          0   \n",
              "48892                     0                          1   \n",
              "48893                     0                          0   \n",
              "48894                     0                          0   \n",
              "\n",
              "       room_type_Private room  room_type_Shared room  is_avail_zero_Nonzero  \\\n",
              "0                           1                      0                      1   \n",
              "1                           0                      0                      1   \n",
              "2                           1                      0                      1   \n",
              "3                           0                      0                      1   \n",
              "4                           0                      0                      0   \n",
              "...                       ...                    ...                    ...   \n",
              "48890                       1                      0                      1   \n",
              "48891                       1                      0                      1   \n",
              "48892                       0                      0                      1   \n",
              "48893                       0                      1                      1   \n",
              "48894                       1                      0                      1   \n",
              "\n",
              "       is_avail_zero_Zero  review_exists_No  review_exists_Yes  \n",
              "0                       0                 0                  1  \n",
              "1                       0                 0                  1  \n",
              "2                       0                 1                  0  \n",
              "3                       0                 0                  1  \n",
              "4                       1                 0                  1  \n",
              "...                   ...               ...                ...  \n",
              "48890                   0                 1                  0  \n",
              "48891                   0                 1                  0  \n",
              "48892                   0                 1                  0  \n",
              "48893                   0                 1                  0  \n",
              "48894                   0                 1                  0  \n",
              "\n",
              "[41980 rows x 63 columns]"
            ],
            "text/html": [
              "\n",
              "  <div id=\"df-acb1f918-deac-4a49-9d16-ad9191b54122\">\n",
              "    <div class=\"colab-df-container\">\n",
              "      <div>\n",
              "<style scoped>\n",
              "    .dataframe tbody tr th:only-of-type {\n",
              "        vertical-align: middle;\n",
              "    }\n",
              "\n",
              "    .dataframe tbody tr th {\n",
              "        vertical-align: top;\n",
              "    }\n",
              "\n",
              "    .dataframe thead th {\n",
              "        text-align: right;\n",
              "    }\n",
              "</style>\n",
              "<table border=\"1\" class=\"dataframe\">\n",
              "  <thead>\n",
              "    <tr style=\"text-align: right;\">\n",
              "      <th></th>\n",
              "      <th>neighbourhood_group_Bronx</th>\n",
              "      <th>neighbourhood_group_Brooklyn</th>\n",
              "      <th>neighbourhood_group_Manhattan</th>\n",
              "      <th>neighbourhood_group_Queens</th>\n",
              "      <th>neighbourhood_group_Staten Island</th>\n",
              "      <th>neighbourhood_Astoria</th>\n",
              "      <th>neighbourhood_Bedford-Stuyvesant</th>\n",
              "      <th>neighbourhood_Bushwick</th>\n",
              "      <th>neighbourhood_Carroll Gardens</th>\n",
              "      <th>neighbourhood_Chelsea</th>\n",
              "      <th>...</th>\n",
              "      <th>neighbourhood_Williamsburg</th>\n",
              "      <th>neighbourhood_Woodside</th>\n",
              "      <th>neighbourhood_others</th>\n",
              "      <th>room_type_Entire home/apt</th>\n",
              "      <th>room_type_Private room</th>\n",
              "      <th>room_type_Shared room</th>\n",
              "      <th>is_avail_zero_Nonzero</th>\n",
              "      <th>is_avail_zero_Zero</th>\n",
              "      <th>review_exists_No</th>\n",
              "      <th>review_exists_Yes</th>\n",
              "    </tr>\n",
              "  </thead>\n",
              "  <tbody>\n",
              "    <tr>\n",
              "      <th>0</th>\n",
              "      <td>0</td>\n",
              "      <td>1</td>\n",
              "      <td>0</td>\n",
              "      <td>0</td>\n",
              "      <td>0</td>\n",
              "      <td>0</td>\n",
              "      <td>0</td>\n",
              "      <td>0</td>\n",
              "      <td>0</td>\n",
              "      <td>0</td>\n",
              "      <td>...</td>\n",
              "      <td>0</td>\n",
              "      <td>0</td>\n",
              "      <td>1</td>\n",
              "      <td>0</td>\n",
              "      <td>1</td>\n",
              "      <td>0</td>\n",
              "      <td>1</td>\n",
              "      <td>0</td>\n",
              "      <td>0</td>\n",
              "      <td>1</td>\n",
              "    </tr>\n",
              "    <tr>\n",
              "      <th>1</th>\n",
              "      <td>0</td>\n",
              "      <td>0</td>\n",
              "      <td>1</td>\n",
              "      <td>0</td>\n",
              "      <td>0</td>\n",
              "      <td>0</td>\n",
              "      <td>0</td>\n",
              "      <td>0</td>\n",
              "      <td>0</td>\n",
              "      <td>0</td>\n",
              "      <td>...</td>\n",
              "      <td>0</td>\n",
              "      <td>0</td>\n",
              "      <td>0</td>\n",
              "      <td>1</td>\n",
              "      <td>0</td>\n",
              "      <td>0</td>\n",
              "      <td>1</td>\n",
              "      <td>0</td>\n",
              "      <td>0</td>\n",
              "      <td>1</td>\n",
              "    </tr>\n",
              "    <tr>\n",
              "      <th>2</th>\n",
              "      <td>0</td>\n",
              "      <td>0</td>\n",
              "      <td>1</td>\n",
              "      <td>0</td>\n",
              "      <td>0</td>\n",
              "      <td>0</td>\n",
              "      <td>0</td>\n",
              "      <td>0</td>\n",
              "      <td>0</td>\n",
              "      <td>0</td>\n",
              "      <td>...</td>\n",
              "      <td>0</td>\n",
              "      <td>0</td>\n",
              "      <td>0</td>\n",
              "      <td>0</td>\n",
              "      <td>1</td>\n",
              "      <td>0</td>\n",
              "      <td>1</td>\n",
              "      <td>0</td>\n",
              "      <td>1</td>\n",
              "      <td>0</td>\n",
              "    </tr>\n",
              "    <tr>\n",
              "      <th>3</th>\n",
              "      <td>0</td>\n",
              "      <td>1</td>\n",
              "      <td>0</td>\n",
              "      <td>0</td>\n",
              "      <td>0</td>\n",
              "      <td>0</td>\n",
              "      <td>0</td>\n",
              "      <td>0</td>\n",
              "      <td>0</td>\n",
              "      <td>0</td>\n",
              "      <td>...</td>\n",
              "      <td>0</td>\n",
              "      <td>0</td>\n",
              "      <td>0</td>\n",
              "      <td>1</td>\n",
              "      <td>0</td>\n",
              "      <td>0</td>\n",
              "      <td>1</td>\n",
              "      <td>0</td>\n",
              "      <td>0</td>\n",
              "      <td>1</td>\n",
              "    </tr>\n",
              "    <tr>\n",
              "      <th>4</th>\n",
              "      <td>0</td>\n",
              "      <td>0</td>\n",
              "      <td>1</td>\n",
              "      <td>0</td>\n",
              "      <td>0</td>\n",
              "      <td>0</td>\n",
              "      <td>0</td>\n",
              "      <td>0</td>\n",
              "      <td>0</td>\n",
              "      <td>0</td>\n",
              "      <td>...</td>\n",
              "      <td>0</td>\n",
              "      <td>0</td>\n",
              "      <td>0</td>\n",
              "      <td>1</td>\n",
              "      <td>0</td>\n",
              "      <td>0</td>\n",
              "      <td>0</td>\n",
              "      <td>1</td>\n",
              "      <td>0</td>\n",
              "      <td>1</td>\n",
              "    </tr>\n",
              "    <tr>\n",
              "      <th>...</th>\n",
              "      <td>...</td>\n",
              "      <td>...</td>\n",
              "      <td>...</td>\n",
              "      <td>...</td>\n",
              "      <td>...</td>\n",
              "      <td>...</td>\n",
              "      <td>...</td>\n",
              "      <td>...</td>\n",
              "      <td>...</td>\n",
              "      <td>...</td>\n",
              "      <td>...</td>\n",
              "      <td>...</td>\n",
              "      <td>...</td>\n",
              "      <td>...</td>\n",
              "      <td>...</td>\n",
              "      <td>...</td>\n",
              "      <td>...</td>\n",
              "      <td>...</td>\n",
              "      <td>...</td>\n",
              "      <td>...</td>\n",
              "      <td>...</td>\n",
              "    </tr>\n",
              "    <tr>\n",
              "      <th>48890</th>\n",
              "      <td>0</td>\n",
              "      <td>1</td>\n",
              "      <td>0</td>\n",
              "      <td>0</td>\n",
              "      <td>0</td>\n",
              "      <td>0</td>\n",
              "      <td>1</td>\n",
              "      <td>0</td>\n",
              "      <td>0</td>\n",
              "      <td>0</td>\n",
              "      <td>...</td>\n",
              "      <td>0</td>\n",
              "      <td>0</td>\n",
              "      <td>0</td>\n",
              "      <td>0</td>\n",
              "      <td>1</td>\n",
              "      <td>0</td>\n",
              "      <td>1</td>\n",
              "      <td>0</td>\n",
              "      <td>1</td>\n",
              "      <td>0</td>\n",
              "    </tr>\n",
              "    <tr>\n",
              "      <th>48891</th>\n",
              "      <td>0</td>\n",
              "      <td>1</td>\n",
              "      <td>0</td>\n",
              "      <td>0</td>\n",
              "      <td>0</td>\n",
              "      <td>0</td>\n",
              "      <td>0</td>\n",
              "      <td>1</td>\n",
              "      <td>0</td>\n",
              "      <td>0</td>\n",
              "      <td>...</td>\n",
              "      <td>0</td>\n",
              "      <td>0</td>\n",
              "      <td>0</td>\n",
              "      <td>0</td>\n",
              "      <td>1</td>\n",
              "      <td>0</td>\n",
              "      <td>1</td>\n",
              "      <td>0</td>\n",
              "      <td>1</td>\n",
              "      <td>0</td>\n",
              "    </tr>\n",
              "    <tr>\n",
              "      <th>48892</th>\n",
              "      <td>0</td>\n",
              "      <td>0</td>\n",
              "      <td>1</td>\n",
              "      <td>0</td>\n",
              "      <td>0</td>\n",
              "      <td>0</td>\n",
              "      <td>0</td>\n",
              "      <td>0</td>\n",
              "      <td>0</td>\n",
              "      <td>0</td>\n",
              "      <td>...</td>\n",
              "      <td>0</td>\n",
              "      <td>0</td>\n",
              "      <td>0</td>\n",
              "      <td>1</td>\n",
              "      <td>0</td>\n",
              "      <td>0</td>\n",
              "      <td>1</td>\n",
              "      <td>0</td>\n",
              "      <td>1</td>\n",
              "      <td>0</td>\n",
              "    </tr>\n",
              "    <tr>\n",
              "      <th>48893</th>\n",
              "      <td>0</td>\n",
              "      <td>0</td>\n",
              "      <td>1</td>\n",
              "      <td>0</td>\n",
              "      <td>0</td>\n",
              "      <td>0</td>\n",
              "      <td>0</td>\n",
              "      <td>0</td>\n",
              "      <td>0</td>\n",
              "      <td>0</td>\n",
              "      <td>...</td>\n",
              "      <td>0</td>\n",
              "      <td>0</td>\n",
              "      <td>0</td>\n",
              "      <td>0</td>\n",
              "      <td>0</td>\n",
              "      <td>1</td>\n",
              "      <td>1</td>\n",
              "      <td>0</td>\n",
              "      <td>1</td>\n",
              "      <td>0</td>\n",
              "    </tr>\n",
              "    <tr>\n",
              "      <th>48894</th>\n",
              "      <td>0</td>\n",
              "      <td>0</td>\n",
              "      <td>1</td>\n",
              "      <td>0</td>\n",
              "      <td>0</td>\n",
              "      <td>0</td>\n",
              "      <td>0</td>\n",
              "      <td>0</td>\n",
              "      <td>0</td>\n",
              "      <td>0</td>\n",
              "      <td>...</td>\n",
              "      <td>0</td>\n",
              "      <td>0</td>\n",
              "      <td>0</td>\n",
              "      <td>0</td>\n",
              "      <td>1</td>\n",
              "      <td>0</td>\n",
              "      <td>1</td>\n",
              "      <td>0</td>\n",
              "      <td>1</td>\n",
              "      <td>0</td>\n",
              "    </tr>\n",
              "  </tbody>\n",
              "</table>\n",
              "<p>41980 rows × 63 columns</p>\n",
              "</div>\n",
              "      <button class=\"colab-df-convert\" onclick=\"convertToInteractive('df-acb1f918-deac-4a49-9d16-ad9191b54122')\"\n",
              "              title=\"Convert this dataframe to an interactive table.\"\n",
              "              style=\"display:none;\">\n",
              "        \n",
              "  <svg xmlns=\"http://www.w3.org/2000/svg\" height=\"24px\"viewBox=\"0 0 24 24\"\n",
              "       width=\"24px\">\n",
              "    <path d=\"M0 0h24v24H0V0z\" fill=\"none\"/>\n",
              "    <path d=\"M18.56 5.44l.94 2.06.94-2.06 2.06-.94-2.06-.94-.94-2.06-.94 2.06-2.06.94zm-11 1L8.5 8.5l.94-2.06 2.06-.94-2.06-.94L8.5 2.5l-.94 2.06-2.06.94zm10 10l.94 2.06.94-2.06 2.06-.94-2.06-.94-.94-2.06-.94 2.06-2.06.94z\"/><path d=\"M17.41 7.96l-1.37-1.37c-.4-.4-.92-.59-1.43-.59-.52 0-1.04.2-1.43.59L10.3 9.45l-7.72 7.72c-.78.78-.78 2.05 0 2.83L4 21.41c.39.39.9.59 1.41.59.51 0 1.02-.2 1.41-.59l7.78-7.78 2.81-2.81c.8-.78.8-2.07 0-2.86zM5.41 20L4 18.59l7.72-7.72 1.47 1.35L5.41 20z\"/>\n",
              "  </svg>\n",
              "      </button>\n",
              "      \n",
              "  <style>\n",
              "    .colab-df-container {\n",
              "      display:flex;\n",
              "      flex-wrap:wrap;\n",
              "      gap: 12px;\n",
              "    }\n",
              "\n",
              "    .colab-df-convert {\n",
              "      background-color: #E8F0FE;\n",
              "      border: none;\n",
              "      border-radius: 50%;\n",
              "      cursor: pointer;\n",
              "      display: none;\n",
              "      fill: #1967D2;\n",
              "      height: 32px;\n",
              "      padding: 0 0 0 0;\n",
              "      width: 32px;\n",
              "    }\n",
              "\n",
              "    .colab-df-convert:hover {\n",
              "      background-color: #E2EBFA;\n",
              "      box-shadow: 0px 1px 2px rgba(60, 64, 67, 0.3), 0px 1px 3px 1px rgba(60, 64, 67, 0.15);\n",
              "      fill: #174EA6;\n",
              "    }\n",
              "\n",
              "    [theme=dark] .colab-df-convert {\n",
              "      background-color: #3B4455;\n",
              "      fill: #D2E3FC;\n",
              "    }\n",
              "\n",
              "    [theme=dark] .colab-df-convert:hover {\n",
              "      background-color: #434B5C;\n",
              "      box-shadow: 0px 1px 3px 1px rgba(0, 0, 0, 0.15);\n",
              "      filter: drop-shadow(0px 1px 2px rgba(0, 0, 0, 0.3));\n",
              "      fill: #FFFFFF;\n",
              "    }\n",
              "  </style>\n",
              "\n",
              "      <script>\n",
              "        const buttonEl =\n",
              "          document.querySelector('#df-acb1f918-deac-4a49-9d16-ad9191b54122 button.colab-df-convert');\n",
              "        buttonEl.style.display =\n",
              "          google.colab.kernel.accessAllowed ? 'block' : 'none';\n",
              "\n",
              "        async function convertToInteractive(key) {\n",
              "          const element = document.querySelector('#df-acb1f918-deac-4a49-9d16-ad9191b54122');\n",
              "          const dataTable =\n",
              "            await google.colab.kernel.invokeFunction('convertToInteractive',\n",
              "                                                     [key], {});\n",
              "          if (!dataTable) return;\n",
              "\n",
              "          const docLinkHtml = 'Like what you see? Visit the ' +\n",
              "            '<a target=\"_blank\" href=https://colab.research.google.com/notebooks/data_table.ipynb>data table notebook</a>'\n",
              "            + ' to learn more about interactive tables.';\n",
              "          element.innerHTML = '';\n",
              "          dataTable['output_type'] = 'display_data';\n",
              "          await google.colab.output.renderOutput(dataTable, element);\n",
              "          const docLink = document.createElement('div');\n",
              "          docLink.innerHTML = docLinkHtml;\n",
              "          element.appendChild(docLink);\n",
              "        }\n",
              "      </script>\n",
              "    </div>\n",
              "  </div>\n",
              "  "
            ]
          },
          "metadata": {},
          "execution_count": 226
        }
      ]
    },
    {
      "cell_type": "markdown",
      "source": [
        "스케일링"
      ],
      "metadata": {
        "id": "vS2ElUIDIwTV"
      }
    },
    {
      "cell_type": "code",
      "source": [
        "from sklearn.preprocessing import StandardScaler\n",
        "scaler = StandardScaler()\n",
        "X_num = df.drop(['neighbourhood_group', 'neighbourhood', 'room_type', 'price', \n",
        "                 'last_review', 'is_avail_zero', 'review_exists'], axis=1)\n",
        "\n",
        "scaler.fit(X_num)\n",
        "X_scaled = scaler.transform(X_num)\n",
        "X_scaled = pd.DataFrame(X_scaled, index=X_num.index, columns=X_num.columns)\n",
        "\n",
        "X = pd.concat([X_scaled, X_cat], axis=1)\n",
        "y = df['price']"
      ],
      "metadata": {
        "id": "UKztWIDDIq_J"
      },
      "execution_count": 227,
      "outputs": []
    },
    {
      "cell_type": "code",
      "source": [
        "X.head()"
      ],
      "metadata": {
        "colab": {
          "base_uri": "https://localhost:8080/",
          "height": 317
        },
        "id": "Y7J04XAuIzVZ",
        "outputId": "fa48160f-f275-49a1-e7b1-68ab402d5636"
      },
      "execution_count": 228,
      "outputs": [
        {
          "output_type": "execute_result",
          "data": {
            "text/plain": [
              "    host_id  minimum_nights  number_of_reviews  reviews_per_month  \\\n",
              "0 -0.848227       -0.588004          -0.352358          -0.588299   \n",
              "1 -0.848227       -0.588004           0.419649          -0.485721   \n",
              "2 -0.848204       -0.119342          -0.545360          -0.715013   \n",
              "3 -0.848200       -0.588004           5.244692           2.084766   \n",
              "4 -0.848170        1.520973          -0.352358          -0.654673   \n",
              "\n",
              "   calculated_host_listings_count  availability_365  \\\n",
              "0                        0.066069          2.132586   \n",
              "1                       -0.084134          2.052616   \n",
              "2                       -0.121684          2.132586   \n",
              "3                       -0.121684          0.765095   \n",
              "4                       -0.121684         -0.786327   \n",
              "\n",
              "   neighbourhood_group_Bronx  neighbourhood_group_Brooklyn  \\\n",
              "0                          0                             1   \n",
              "1                          0                             0   \n",
              "2                          0                             0   \n",
              "3                          0                             1   \n",
              "4                          0                             0   \n",
              "\n",
              "   neighbourhood_group_Manhattan  neighbourhood_group_Queens  ...  \\\n",
              "0                              0                           0  ...   \n",
              "1                              1                           0  ...   \n",
              "2                              1                           0  ...   \n",
              "3                              0                           0  ...   \n",
              "4                              1                           0  ...   \n",
              "\n",
              "   neighbourhood_Williamsburg  neighbourhood_Woodside  neighbourhood_others  \\\n",
              "0                           0                       0                     1   \n",
              "1                           0                       0                     0   \n",
              "2                           0                       0                     0   \n",
              "3                           0                       0                     0   \n",
              "4                           0                       0                     0   \n",
              "\n",
              "   room_type_Entire home/apt  room_type_Private room  room_type_Shared room  \\\n",
              "0                          0                       1                      0   \n",
              "1                          1                       0                      0   \n",
              "2                          0                       1                      0   \n",
              "3                          1                       0                      0   \n",
              "4                          1                       0                      0   \n",
              "\n",
              "   is_avail_zero_Nonzero  is_avail_zero_Zero  review_exists_No  \\\n",
              "0                      1                   0                 0   \n",
              "1                      1                   0                 0   \n",
              "2                      1                   0                 1   \n",
              "3                      1                   0                 0   \n",
              "4                      0                   1                 0   \n",
              "\n",
              "   review_exists_Yes  \n",
              "0                  1  \n",
              "1                  1  \n",
              "2                  0  \n",
              "3                  1  \n",
              "4                  1  \n",
              "\n",
              "[5 rows x 69 columns]"
            ],
            "text/html": [
              "\n",
              "  <div id=\"df-972da21b-231c-48bd-9eca-edbeaf8e80a6\">\n",
              "    <div class=\"colab-df-container\">\n",
              "      <div>\n",
              "<style scoped>\n",
              "    .dataframe tbody tr th:only-of-type {\n",
              "        vertical-align: middle;\n",
              "    }\n",
              "\n",
              "    .dataframe tbody tr th {\n",
              "        vertical-align: top;\n",
              "    }\n",
              "\n",
              "    .dataframe thead th {\n",
              "        text-align: right;\n",
              "    }\n",
              "</style>\n",
              "<table border=\"1\" class=\"dataframe\">\n",
              "  <thead>\n",
              "    <tr style=\"text-align: right;\">\n",
              "      <th></th>\n",
              "      <th>host_id</th>\n",
              "      <th>minimum_nights</th>\n",
              "      <th>number_of_reviews</th>\n",
              "      <th>reviews_per_month</th>\n",
              "      <th>calculated_host_listings_count</th>\n",
              "      <th>availability_365</th>\n",
              "      <th>neighbourhood_group_Bronx</th>\n",
              "      <th>neighbourhood_group_Brooklyn</th>\n",
              "      <th>neighbourhood_group_Manhattan</th>\n",
              "      <th>neighbourhood_group_Queens</th>\n",
              "      <th>...</th>\n",
              "      <th>neighbourhood_Williamsburg</th>\n",
              "      <th>neighbourhood_Woodside</th>\n",
              "      <th>neighbourhood_others</th>\n",
              "      <th>room_type_Entire home/apt</th>\n",
              "      <th>room_type_Private room</th>\n",
              "      <th>room_type_Shared room</th>\n",
              "      <th>is_avail_zero_Nonzero</th>\n",
              "      <th>is_avail_zero_Zero</th>\n",
              "      <th>review_exists_No</th>\n",
              "      <th>review_exists_Yes</th>\n",
              "    </tr>\n",
              "  </thead>\n",
              "  <tbody>\n",
              "    <tr>\n",
              "      <th>0</th>\n",
              "      <td>-0.848227</td>\n",
              "      <td>-0.588004</td>\n",
              "      <td>-0.352358</td>\n",
              "      <td>-0.588299</td>\n",
              "      <td>0.066069</td>\n",
              "      <td>2.132586</td>\n",
              "      <td>0</td>\n",
              "      <td>1</td>\n",
              "      <td>0</td>\n",
              "      <td>0</td>\n",
              "      <td>...</td>\n",
              "      <td>0</td>\n",
              "      <td>0</td>\n",
              "      <td>1</td>\n",
              "      <td>0</td>\n",
              "      <td>1</td>\n",
              "      <td>0</td>\n",
              "      <td>1</td>\n",
              "      <td>0</td>\n",
              "      <td>0</td>\n",
              "      <td>1</td>\n",
              "    </tr>\n",
              "    <tr>\n",
              "      <th>1</th>\n",
              "      <td>-0.848227</td>\n",
              "      <td>-0.588004</td>\n",
              "      <td>0.419649</td>\n",
              "      <td>-0.485721</td>\n",
              "      <td>-0.084134</td>\n",
              "      <td>2.052616</td>\n",
              "      <td>0</td>\n",
              "      <td>0</td>\n",
              "      <td>1</td>\n",
              "      <td>0</td>\n",
              "      <td>...</td>\n",
              "      <td>0</td>\n",
              "      <td>0</td>\n",
              "      <td>0</td>\n",
              "      <td>1</td>\n",
              "      <td>0</td>\n",
              "      <td>0</td>\n",
              "      <td>1</td>\n",
              "      <td>0</td>\n",
              "      <td>0</td>\n",
              "      <td>1</td>\n",
              "    </tr>\n",
              "    <tr>\n",
              "      <th>2</th>\n",
              "      <td>-0.848204</td>\n",
              "      <td>-0.119342</td>\n",
              "      <td>-0.545360</td>\n",
              "      <td>-0.715013</td>\n",
              "      <td>-0.121684</td>\n",
              "      <td>2.132586</td>\n",
              "      <td>0</td>\n",
              "      <td>0</td>\n",
              "      <td>1</td>\n",
              "      <td>0</td>\n",
              "      <td>...</td>\n",
              "      <td>0</td>\n",
              "      <td>0</td>\n",
              "      <td>0</td>\n",
              "      <td>0</td>\n",
              "      <td>1</td>\n",
              "      <td>0</td>\n",
              "      <td>1</td>\n",
              "      <td>0</td>\n",
              "      <td>1</td>\n",
              "      <td>0</td>\n",
              "    </tr>\n",
              "    <tr>\n",
              "      <th>3</th>\n",
              "      <td>-0.848200</td>\n",
              "      <td>-0.588004</td>\n",
              "      <td>5.244692</td>\n",
              "      <td>2.084766</td>\n",
              "      <td>-0.121684</td>\n",
              "      <td>0.765095</td>\n",
              "      <td>0</td>\n",
              "      <td>1</td>\n",
              "      <td>0</td>\n",
              "      <td>0</td>\n",
              "      <td>...</td>\n",
              "      <td>0</td>\n",
              "      <td>0</td>\n",
              "      <td>0</td>\n",
              "      <td>1</td>\n",
              "      <td>0</td>\n",
              "      <td>0</td>\n",
              "      <td>1</td>\n",
              "      <td>0</td>\n",
              "      <td>0</td>\n",
              "      <td>1</td>\n",
              "    </tr>\n",
              "    <tr>\n",
              "      <th>4</th>\n",
              "      <td>-0.848170</td>\n",
              "      <td>1.520973</td>\n",
              "      <td>-0.352358</td>\n",
              "      <td>-0.654673</td>\n",
              "      <td>-0.121684</td>\n",
              "      <td>-0.786327</td>\n",
              "      <td>0</td>\n",
              "      <td>0</td>\n",
              "      <td>1</td>\n",
              "      <td>0</td>\n",
              "      <td>...</td>\n",
              "      <td>0</td>\n",
              "      <td>0</td>\n",
              "      <td>0</td>\n",
              "      <td>1</td>\n",
              "      <td>0</td>\n",
              "      <td>0</td>\n",
              "      <td>0</td>\n",
              "      <td>1</td>\n",
              "      <td>0</td>\n",
              "      <td>1</td>\n",
              "    </tr>\n",
              "  </tbody>\n",
              "</table>\n",
              "<p>5 rows × 69 columns</p>\n",
              "</div>\n",
              "      <button class=\"colab-df-convert\" onclick=\"convertToInteractive('df-972da21b-231c-48bd-9eca-edbeaf8e80a6')\"\n",
              "              title=\"Convert this dataframe to an interactive table.\"\n",
              "              style=\"display:none;\">\n",
              "        \n",
              "  <svg xmlns=\"http://www.w3.org/2000/svg\" height=\"24px\"viewBox=\"0 0 24 24\"\n",
              "       width=\"24px\">\n",
              "    <path d=\"M0 0h24v24H0V0z\" fill=\"none\"/>\n",
              "    <path d=\"M18.56 5.44l.94 2.06.94-2.06 2.06-.94-2.06-.94-.94-2.06-.94 2.06-2.06.94zm-11 1L8.5 8.5l.94-2.06 2.06-.94-2.06-.94L8.5 2.5l-.94 2.06-2.06.94zm10 10l.94 2.06.94-2.06 2.06-.94-2.06-.94-.94-2.06-.94 2.06-2.06.94z\"/><path d=\"M17.41 7.96l-1.37-1.37c-.4-.4-.92-.59-1.43-.59-.52 0-1.04.2-1.43.59L10.3 9.45l-7.72 7.72c-.78.78-.78 2.05 0 2.83L4 21.41c.39.39.9.59 1.41.59.51 0 1.02-.2 1.41-.59l7.78-7.78 2.81-2.81c.8-.78.8-2.07 0-2.86zM5.41 20L4 18.59l7.72-7.72 1.47 1.35L5.41 20z\"/>\n",
              "  </svg>\n",
              "      </button>\n",
              "      \n",
              "  <style>\n",
              "    .colab-df-container {\n",
              "      display:flex;\n",
              "      flex-wrap:wrap;\n",
              "      gap: 12px;\n",
              "    }\n",
              "\n",
              "    .colab-df-convert {\n",
              "      background-color: #E8F0FE;\n",
              "      border: none;\n",
              "      border-radius: 50%;\n",
              "      cursor: pointer;\n",
              "      display: none;\n",
              "      fill: #1967D2;\n",
              "      height: 32px;\n",
              "      padding: 0 0 0 0;\n",
              "      width: 32px;\n",
              "    }\n",
              "\n",
              "    .colab-df-convert:hover {\n",
              "      background-color: #E2EBFA;\n",
              "      box-shadow: 0px 1px 2px rgba(60, 64, 67, 0.3), 0px 1px 3px 1px rgba(60, 64, 67, 0.15);\n",
              "      fill: #174EA6;\n",
              "    }\n",
              "\n",
              "    [theme=dark] .colab-df-convert {\n",
              "      background-color: #3B4455;\n",
              "      fill: #D2E3FC;\n",
              "    }\n",
              "\n",
              "    [theme=dark] .colab-df-convert:hover {\n",
              "      background-color: #434B5C;\n",
              "      box-shadow: 0px 1px 3px 1px rgba(0, 0, 0, 0.15);\n",
              "      filter: drop-shadow(0px 1px 2px rgba(0, 0, 0, 0.3));\n",
              "      fill: #FFFFFF;\n",
              "    }\n",
              "  </style>\n",
              "\n",
              "      <script>\n",
              "        const buttonEl =\n",
              "          document.querySelector('#df-972da21b-231c-48bd-9eca-edbeaf8e80a6 button.colab-df-convert');\n",
              "        buttonEl.style.display =\n",
              "          google.colab.kernel.accessAllowed ? 'block' : 'none';\n",
              "\n",
              "        async function convertToInteractive(key) {\n",
              "          const element = document.querySelector('#df-972da21b-231c-48bd-9eca-edbeaf8e80a6');\n",
              "          const dataTable =\n",
              "            await google.colab.kernel.invokeFunction('convertToInteractive',\n",
              "                                                     [key], {});\n",
              "          if (!dataTable) return;\n",
              "\n",
              "          const docLinkHtml = 'Like what you see? Visit the ' +\n",
              "            '<a target=\"_blank\" href=https://colab.research.google.com/notebooks/data_table.ipynb>data table notebook</a>'\n",
              "            + ' to learn more about interactive tables.';\n",
              "          element.innerHTML = '';\n",
              "          dataTable['output_type'] = 'display_data';\n",
              "          await google.colab.output.renderOutput(dataTable, element);\n",
              "          const docLink = document.createElement('div');\n",
              "          docLink.innerHTML = docLinkHtml;\n",
              "          element.appendChild(docLink);\n",
              "        }\n",
              "      </script>\n",
              "    </div>\n",
              "  </div>\n",
              "  "
            ]
          },
          "metadata": {},
          "execution_count": 228
        }
      ]
    },
    {
      "cell_type": "markdown",
      "source": [
        "train test valid"
      ],
      "metadata": {
        "id": "T-Rr-V9-I4K_"
      }
    },
    {
      "cell_type": "code",
      "source": [
        "from sklearn.model_selection import train_test_split\n",
        "X_train, X_test, y_train, y_test = train_test_split(X, y, test_size=0.2, random_state=2)\n"
      ],
      "metadata": {
        "id": "vbULYCB7I0zz"
      },
      "execution_count": 229,
      "outputs": []
    },
    {
      "cell_type": "code",
      "source": [
        "X_train, X_valid, y_train, y_valid = train_test_split(X_train, y_train, test_size=0.2, random_state=2)"
      ],
      "metadata": {
        "id": "h07G2MbdU6ES"
      },
      "execution_count": 230,
      "outputs": []
    },
    {
      "cell_type": "markdown",
      "source": [
        "basemodel"
      ],
      "metadata": {
        "id": "UFj2Ci0KI_Y1"
      }
    },
    {
      "cell_type": "code",
      "source": [
        "from sklearn.metrics import mean_absolute_error, mean_squared_error\n",
        "from sklearn.metrics import r2_score\n",
        "import math \n",
        "y_target = df['price']\n",
        "mean = y_target.mean()\n",
        "baseline = [mean] * len(df)\n",
        "\n",
        "mae = mean_absolute_error(y_target, baseline)\n",
        "mse = mean_squared_error(y_target, baseline)\n",
        "rmse = math.sqrt(mse)"
      ],
      "metadata": {
        "id": "6kx4ZmC7I9Kd"
      },
      "execution_count": 231,
      "outputs": []
    },
    {
      "cell_type": "code",
      "source": [
        "print(mae)\n",
        "print(mse)\n",
        "print(rmse)"
      ],
      "metadata": {
        "colab": {
          "base_uri": "https://localhost:8080/"
        },
        "id": "_f2jxm62JGM9",
        "outputId": "8d249f4a-22b3-4922-bf44-6d60171f252b"
      },
      "execution_count": 232,
      "outputs": [
        {
          "output_type": "stream",
          "name": "stdout",
          "text": [
            "56.533858809101915\n",
            "4996.4323042478545\n",
            "70.68544619826527\n"
          ]
        }
      ]
    },
    {
      "cell_type": "markdown",
      "source": [
        "모델학습 및 평가"
      ],
      "metadata": {
        "id": "Fs9kVoGjUVTg"
      }
    },
    {
      "cell_type": "code",
      "source": [
        "from xgboost import XGBRegressor\n",
        "model_reg = XGBRegressor(objective='reg:squarederror')\n",
        "model_reg.fit(X_train, y_train)"
      ],
      "metadata": {
        "colab": {
          "base_uri": "https://localhost:8080/"
        },
        "id": "X9QsxaNtKees",
        "outputId": "c4b8db69-b7e0-460f-f8cc-bc8d2c8bac76"
      },
      "execution_count": 233,
      "outputs": [
        {
          "output_type": "execute_result",
          "data": {
            "text/plain": [
              "XGBRegressor(objective='reg:squarederror')"
            ]
          },
          "metadata": {},
          "execution_count": 233
        }
      ]
    },
    {
      "cell_type": "code",
      "source": [
        "pred = model_reg.predict(X_valid)\n",
        "print(mean_absolute_error(y_valid, pred))\n",
        "print(mean_squared_error(y_valid, pred))\n",
        "print(math.sqrt(mean_squared_error(y_valid, pred)))"
      ],
      "metadata": {
        "colab": {
          "base_uri": "https://localhost:8080/"
        },
        "id": "2lOJxuy4LpRE",
        "outputId": "99662c7c-2f36-49f3-aa23-d98631c3aa5e"
      },
      "execution_count": 234,
      "outputs": [
        {
          "output_type": "stream",
          "name": "stdout",
          "text": [
            "35.41616772675383\n",
            "2429.380191463937\n",
            "49.288743050152306\n"
          ]
        }
      ]
    },
    {
      "cell_type": "markdown",
      "source": [
        "하이퍼 파라미터 튜닝"
      ],
      "metadata": {
        "id": "o2FTvnwfNYPl"
      }
    },
    {
      "cell_type": "code",
      "source": [
        "import numpy as np\n",
        "from xgboost.sklearn import XGBRegressor\n",
        "from sklearn.model_selection import GridSearchCV"
      ],
      "metadata": {
        "id": "xvEw9g3rMI2j"
      },
      "execution_count": 235,
      "outputs": []
    },
    {
      "cell_type": "code",
      "source": [
        "max_depth = [0,5,10]\n",
        "learning_rate = [0.1,0.2]\n",
        "gamma = [0.1,1,10]"
      ],
      "metadata": {
        "id": "j8F1Z5OzNgaX"
      },
      "execution_count": 236,
      "outputs": []
    },
    {
      "cell_type": "code",
      "source": [
        "model_reg = XGBRegressor(objective='reg:squarederror')\n",
        "model_reg.fit(X_train, y_train)"
      ],
      "metadata": {
        "colab": {
          "base_uri": "https://localhost:8080/"
        },
        "id": "IqyOpJhmNycL",
        "outputId": "93461e57-ca72-4fd2-e1d1-d0961072fa36"
      },
      "execution_count": 237,
      "outputs": [
        {
          "output_type": "execute_result",
          "data": {
            "text/plain": [
              "XGBRegressor(objective='reg:squarederror')"
            ]
          },
          "metadata": {},
          "execution_count": 237
        }
      ]
    },
    {
      "cell_type": "code",
      "source": [
        "print(model_reg.get_params().keys())\n",
        "parameters = {'max_depth':max_depth, 'learning_rate':learning_rate ,'gamma':gamma } \n",
        " \n",
        "## Grid Search 수행\n",
        "reg = GridSearchCV(model_reg, parameters, cv=3)\n",
        "reg.fit(X_train, y_train)"
      ],
      "metadata": {
        "colab": {
          "base_uri": "https://localhost:8080/"
        },
        "id": "9mqei_xRNg1B",
        "outputId": "a6b9b34a-4115-4971-c968-cb1fb05c8763"
      },
      "execution_count": 238,
      "outputs": [
        {
          "output_type": "stream",
          "name": "stdout",
          "text": [
            "dict_keys(['base_score', 'booster', 'colsample_bylevel', 'colsample_bynode', 'colsample_bytree', 'gamma', 'importance_type', 'learning_rate', 'max_delta_step', 'max_depth', 'min_child_weight', 'missing', 'n_estimators', 'n_jobs', 'nthread', 'objective', 'random_state', 'reg_alpha', 'reg_lambda', 'scale_pos_weight', 'seed', 'silent', 'subsample', 'verbosity'])\n"
          ]
        },
        {
          "output_type": "execute_result",
          "data": {
            "text/plain": [
              "GridSearchCV(cv=3, estimator=XGBRegressor(objective='reg:squarederror'),\n",
              "             param_grid={'gamma': [0.1, 1, 10], 'learning_rate': [0.1, 0.2],\n",
              "                         'max_depth': [0, 5, 10]})"
            ]
          },
          "metadata": {},
          "execution_count": 238
        }
      ]
    },
    {
      "cell_type": "code",
      "source": [
        "print('최적 파라미터 값 : ', reg.best_params_)\n",
        "print('점수 : ', reg.best_score_)"
      ],
      "metadata": {
        "colab": {
          "base_uri": "https://localhost:8080/"
        },
        "id": "BMXtIm42N0hS",
        "outputId": "252317cc-2f98-4001-c5d9-cd7e6ea25554"
      },
      "execution_count": 239,
      "outputs": [
        {
          "output_type": "stream",
          "name": "stdout",
          "text": [
            "최적 파라미터 값 :  {'gamma': 10, 'learning_rate': 0.2, 'max_depth': 5}\n",
            "점수 :  0.537994381402044\n"
          ]
        }
      ]
    },
    {
      "cell_type": "code",
      "source": [
        "final_reg = XGBRegressor(objective='reg:squarederror', gamma = 10, learning_rate=0.2, max_depth = 5)\n",
        "final_reg.fit(X_train, y_train)"
      ],
      "metadata": {
        "colab": {
          "base_uri": "https://localhost:8080/"
        },
        "id": "5AwqHw2yOJKZ",
        "outputId": "a2bda764-9511-4ea3-a181-b186dba39980"
      },
      "execution_count": 240,
      "outputs": [
        {
          "output_type": "execute_result",
          "data": {
            "text/plain": [
              "XGBRegressor(gamma=10, learning_rate=0.2, max_depth=5,\n",
              "             objective='reg:squarederror')"
            ]
          },
          "metadata": {},
          "execution_count": 240
        }
      ]
    },
    {
      "cell_type": "code",
      "source": [
        "pred = final_reg.predict(X_test)\n",
        "print(mean_absolute_error(y_test, pred))\n",
        "print(mean_squared_error(y_test, pred))\n",
        "print(math.sqrt(mean_squared_error(y_test, pred)))"
      ],
      "metadata": {
        "colab": {
          "base_uri": "https://localhost:8080/"
        },
        "id": "TBWE1_x9Om2x",
        "outputId": "7d26c95a-db9e-4db6-fb8a-77b1a7e280f8"
      },
      "execution_count": 241,
      "outputs": [
        {
          "output_type": "stream",
          "name": "stdout",
          "text": [
            "34.84206262027837\n",
            "2385.931281710677\n",
            "48.84599555450454\n"
          ]
        }
      ]
    },
    {
      "cell_type": "code",
      "source": [
        "plt.scatter(x=y_test, y=pred, alpha=0.1)\n",
        "plt.plot([0,350], [0, 350], 'r-')"
      ],
      "metadata": {
        "colab": {
          "base_uri": "https://localhost:8080/",
          "height": 283
        },
        "id": "V_KG6vXPVz5v",
        "outputId": "b620c83f-670e-4a6d-d0b5-cd5b171c3fbe"
      },
      "execution_count": 242,
      "outputs": [
        {
          "output_type": "execute_result",
          "data": {
            "text/plain": [
              "[<matplotlib.lines.Line2D at 0x7fbfe71495b0>]"
            ]
          },
          "metadata": {},
          "execution_count": 242
        },
        {
          "output_type": "display_data",
          "data": {
            "text/plain": [
              "<Figure size 432x288 with 1 Axes>"
            ],
            "image/png": "[encoded data removed]"
          },
          "metadata": {
            "needs_background": "light"
          }
        }
      ]
    },
    {
      "cell_type": "code",
      "source": [
        "err = (pred - y_test) / y_test\n",
        "sns.histplot(err)\n",
        "plt.grid()"
      ],
      "metadata": {
        "colab": {
          "base_uri": "https://localhost:8080/",
          "height": 279
        },
        "id": "5aC7RhDxWKs6",
        "outputId": "e13390d8-7c5c-42c6-e683-9d51d5a075d3"
      },
      "execution_count": 243,
      "outputs": [
        {
          "output_type": "display_data",
          "data": {
            "text/plain": [
              "<Figure size 432x288 with 1 Axes>"
            ],
            "image/png": "[encoded data removed]"
          },
          "metadata": {
            "needs_background": "light"
          }
        }
      ]
    },
    {
      "cell_type": "code",
      "source": [],
      "metadata": {
        "id": "4SUbt56TWa9Y"
      },
      "execution_count": 243,
      "outputs": []
    }
  ]
}